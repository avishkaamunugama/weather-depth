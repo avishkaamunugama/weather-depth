{
 "cells": [
  {
   "cell_type": "markdown",
   "metadata": {
    "id": "PHILC9rbpcJx"
   },
   "source": [
    "### Installing Required Libraries"
   ]
  },
  {
   "cell_type": "code",
   "execution_count": 1,
   "metadata": {
    "execution": {
     "iopub.execute_input": "2022-07-09T20:48:33.519809Z",
     "iopub.status.busy": "2022-07-09T20:48:33.519472Z",
     "iopub.status.idle": "2022-07-09T20:48:51.932401Z",
     "shell.execute_reply": "2022-07-09T20:48:51.931799Z",
     "shell.execute_reply.started": "2022-07-09T20:48:33.519726Z"
    },
    "id": "sZGeCkZVqiaP"
   },
   "outputs": [
    {
     "name": "stdout",
     "output_type": "stream",
     "text": [
      "Requirement already satisfied: opencv-python-headless in /opt/conda/envs/saturn/lib/python3.9/site-packages (4.6.0.66)\n",
      "Requirement already satisfied: numpy>=1.17.3 in /opt/conda/envs/saturn/lib/python3.9/site-packages (from opencv-python-headless) (1.21.2)\n",
      "Requirement already satisfied: albumentations==0.4.6 in /opt/conda/envs/saturn/lib/python3.9/site-packages (0.4.6)\n",
      "Requirement already satisfied: scipy in /opt/conda/envs/saturn/lib/python3.9/site-packages (from albumentations==0.4.6) (1.7.3)\n",
      "Requirement already satisfied: imgaug>=0.4.0 in /opt/conda/envs/saturn/lib/python3.9/site-packages (from albumentations==0.4.6) (0.4.0)\n",
      "Requirement already satisfied: opencv-python-headless>=4.1.1 in /opt/conda/envs/saturn/lib/python3.9/site-packages (from albumentations==0.4.6) (4.6.0.66)\n",
      "Requirement already satisfied: PyYAML in /opt/conda/envs/saturn/lib/python3.9/site-packages (from albumentations==0.4.6) (6.0)\n",
      "Requirement already satisfied: numpy>=1.11.1 in /opt/conda/envs/saturn/lib/python3.9/site-packages (from albumentations==0.4.6) (1.21.2)\n",
      "Requirement already satisfied: Shapely in /opt/conda/envs/saturn/lib/python3.9/site-packages (from imgaug>=0.4.0->albumentations==0.4.6) (1.8.2)\n",
      "Requirement already satisfied: opencv-python in /opt/conda/envs/saturn/lib/python3.9/site-packages (from imgaug>=0.4.0->albumentations==0.4.6) (4.6.0.66)\n",
      "Requirement already satisfied: Pillow in /opt/conda/envs/saturn/lib/python3.9/site-packages (from imgaug>=0.4.0->albumentations==0.4.6) (8.4.0)\n",
      "Requirement already satisfied: six in /opt/conda/envs/saturn/lib/python3.9/site-packages (from imgaug>=0.4.0->albumentations==0.4.6) (1.16.0)\n",
      "Requirement already satisfied: matplotlib in /opt/conda/envs/saturn/lib/python3.9/site-packages (from imgaug>=0.4.0->albumentations==0.4.6) (3.5.0)\n",
      "Requirement already satisfied: scikit-image>=0.14.2 in /opt/conda/envs/saturn/lib/python3.9/site-packages (from imgaug>=0.4.0->albumentations==0.4.6) (0.19.3)\n",
      "Requirement already satisfied: imageio in /opt/conda/envs/saturn/lib/python3.9/site-packages (from imgaug>=0.4.0->albumentations==0.4.6) (2.19.3)\n",
      "Requirement already satisfied: PyWavelets>=1.1.1 in /opt/conda/envs/saturn/lib/python3.9/site-packages (from scikit-image>=0.14.2->imgaug>=0.4.0->albumentations==0.4.6) (1.3.0)\n",
      "Requirement already satisfied: networkx>=2.2 in /opt/conda/envs/saturn/lib/python3.9/site-packages (from scikit-image>=0.14.2->imgaug>=0.4.0->albumentations==0.4.6) (2.8.4)\n",
      "Requirement already satisfied: tifffile>=2019.7.26 in /opt/conda/envs/saturn/lib/python3.9/site-packages (from scikit-image>=0.14.2->imgaug>=0.4.0->albumentations==0.4.6) (2022.5.4)\n",
      "Requirement already satisfied: packaging>=20.0 in /opt/conda/envs/saturn/lib/python3.9/site-packages (from scikit-image>=0.14.2->imgaug>=0.4.0->albumentations==0.4.6) (21.3)\n",
      "Requirement already satisfied: pyparsing!=3.0.5,>=2.0.2 in /opt/conda/envs/saturn/lib/python3.9/site-packages (from packaging>=20.0->scikit-image>=0.14.2->imgaug>=0.4.0->albumentations==0.4.6) (3.0.4)\n",
      "Requirement already satisfied: kiwisolver>=1.0.1 in /opt/conda/envs/saturn/lib/python3.9/site-packages (from matplotlib->imgaug>=0.4.0->albumentations==0.4.6) (1.3.2)\n",
      "Requirement already satisfied: cycler>=0.10 in /opt/conda/envs/saturn/lib/python3.9/site-packages (from matplotlib->imgaug>=0.4.0->albumentations==0.4.6) (0.11.0)\n",
      "Requirement already satisfied: python-dateutil>=2.7 in /opt/conda/envs/saturn/lib/python3.9/site-packages (from matplotlib->imgaug>=0.4.0->albumentations==0.4.6) (2.8.2)\n",
      "Requirement already satisfied: fonttools>=4.22.0 in /opt/conda/envs/saturn/lib/python3.9/site-packages (from matplotlib->imgaug>=0.4.0->albumentations==0.4.6) (4.25.0)\n",
      "Requirement already satisfied: kornia in /opt/conda/envs/saturn/lib/python3.9/site-packages (0.6.5)\n",
      "Requirement already satisfied: torch>=1.8.1 in /opt/conda/envs/saturn/lib/python3.9/site-packages (from kornia) (1.9.1)\n",
      "Requirement already satisfied: packaging in /opt/conda/envs/saturn/lib/python3.9/site-packages (from kornia) (21.3)\n",
      "Requirement already satisfied: typing_extensions in /opt/conda/envs/saturn/lib/python3.9/site-packages (from torch>=1.8.1->kornia) (4.1.1)\n",
      "Requirement already satisfied: pyparsing!=3.0.5,>=2.0.2 in /opt/conda/envs/saturn/lib/python3.9/site-packages (from packaging->kornia) (3.0.4)\n",
      "Requirement already satisfied: tensorboardX in /opt/conda/envs/saturn/lib/python3.9/site-packages (2.5.1)\n",
      "Requirement already satisfied: numpy in /opt/conda/envs/saturn/lib/python3.9/site-packages (from tensorboardX) (1.21.2)\n",
      "Requirement already satisfied: protobuf<=3.20.1,>=3.8.0 in /opt/conda/envs/saturn/lib/python3.9/site-packages (from tensorboardX) (3.15.8)\n",
      "Requirement already satisfied: six>=1.9 in /opt/conda/envs/saturn/lib/python3.9/site-packages (from protobuf<=3.20.1,>=3.8.0->tensorboardX) (1.16.0)\n",
      "Requirement already satisfied: numba in /opt/conda/envs/saturn/lib/python3.9/site-packages (0.55.1)\n",
      "Requirement already satisfied: llvmlite<0.39,>=0.38.0rc1 in /opt/conda/envs/saturn/lib/python3.9/site-packages (from numba) (0.38.0)\n",
      "Requirement already satisfied: setuptools in /opt/conda/envs/saturn/lib/python3.9/site-packages (from numba) (58.0.4)\n",
      "Requirement already satisfied: numpy<1.22,>=1.18 in /opt/conda/envs/saturn/lib/python3.9/site-packages (from numba) (1.21.2)\n",
      "Requirement already satisfied: opencv-python in /opt/conda/envs/saturn/lib/python3.9/site-packages (4.6.0.66)\n",
      "Requirement already satisfied: numpy>=1.17.3 in /opt/conda/envs/saturn/lib/python3.9/site-packages (from opencv-python) (1.21.2)\n",
      "Hit:1 http://security.ubuntu.com/ubuntu bionic-security InRelease\n",
      "Hit:2 http://archive.ubuntu.com/ubuntu bionic InRelease                        \n",
      "Hit:3 https://developer.download.nvidia.com/compute/cuda/repos/ubuntu1804/x86_64  InRelease\n",
      "Hit:4 http://archive.ubuntu.com/ubuntu bionic-updates InRelease\n",
      "Hit:5 http://archive.ubuntu.com/ubuntu bionic-backports InRelease\n",
      "Reading package lists... Done\n",
      "Reading package lists... Done\n",
      "Building dependency tree       \n",
      "Reading state information... Done\n",
      "libsm6 is already the newest version (2:1.2.2-1).\n",
      "libxext6 is already the newest version (2:1.3.3-1).\n",
      "ffmpeg is already the newest version (7:3.4.11-0ubuntu0.1).\n",
      "0 upgraded, 0 newly installed, 0 to remove and 39 not upgraded.\n"
     ]
    }
   ],
   "source": [
    "!pip install opencv-python-headless\n",
    "!pip install albumentations==0.4.6\n",
    "!pip install kornia\n",
    "!pip install tensorboardX\n",
    "!pip install numba\n",
    "!pip install opencv-python; sudo apt-get update; sudo apt-get install ffmpeg libsm6 libxext6  -y;"
   ]
  },
  {
   "cell_type": "markdown",
   "metadata": {},
   "source": [
    "### Imports"
   ]
  },
  {
   "cell_type": "code",
   "execution_count": 2,
   "metadata": {
    "execution": {
     "iopub.execute_input": "2022-07-09T20:49:12.783107Z",
     "iopub.status.busy": "2022-07-09T20:49:12.782814Z",
     "iopub.status.idle": "2022-07-09T20:49:23.163090Z",
     "shell.execute_reply": "2022-07-09T20:49:23.162548Z",
     "shell.execute_reply.started": "2022-07-09T20:49:12.783078Z"
    },
    "executionInfo": {
     "elapsed": 7137,
     "status": "ok",
     "timestamp": 1654774571602,
     "user": {
      "displayName": "Avishka Amunugama",
      "userId": "08200099877759974834"
     },
     "user_tz": -330
    },
    "id": "o_ny3AECpcJy"
   },
   "outputs": [],
   "source": [
    "import torch\n",
    "import configs\n",
    "import torchvision\n",
    "import numpy as np\n",
    "import torch.nn as nn\n",
    "from PIL import Image\n",
    "from tqdm import tqdm\n",
    "import torch.optim as optim\n",
    "from torchvision import models\n",
    "import torch.nn.functional as F\n",
    "from utils import vKittiDataset\n",
    "import matplotlib.pyplot as plt\n",
    "from torch.autograd import Variable  \n",
    "from torch.utils.data import DataLoader\n",
    "from torchvision.utils import save_image\n",
    "from torch.utils.tensorboard import SummaryWriter\n",
    "from utils import load_checkpoint, save_checkpoint, save_some_examples, colorize, ssim, upscale_depth_tensor, upscale_depth_img, evaluate_model, DepthNorm, LogProgress\n",
    "\n",
    "# Suppress warnings\n",
    "np.seterr(divide='ignore', invalid='ignore')\n",
    "torch.backends.cudnn.benchmark = True\n",
    "%matplotlib inline\n"
   ]
  },
  {
   "cell_type": "markdown",
   "metadata": {
    "id": "iXea75qfbXY9"
   },
   "source": [
    "##### Testing dataloaders"
   ]
  },
  {
   "cell_type": "code",
   "execution_count": 3,
   "metadata": {
    "colab": {
     "base_uri": "https://localhost:8080/",
     "height": 1000
    },
    "execution": {
     "iopub.execute_input": "2022-07-09T20:49:23.164861Z",
     "iopub.status.busy": "2022-07-09T20:49:23.164571Z",
     "iopub.status.idle": "2022-07-09T20:49:24.392499Z",
     "shell.execute_reply": "2022-07-09T20:49:24.391879Z",
     "shell.execute_reply.started": "2022-07-09T20:49:23.164827Z"
    },
    "executionInfo": {
     "elapsed": 5765,
     "status": "ok",
     "timestamp": 1654774619932,
     "user": {
      "displayName": "Avishka Amunugama",
      "userId": "08200099877759974834"
     },
     "user_tz": -330
    },
    "id": "VwVMAbEipcJ1",
    "outputId": "3aaa336f-bb5a-4bed-9333-09a952dc233a"
   },
   "outputs": [
    {
     "name": "stdout",
     "output_type": "stream",
     "text": [
      "80.0\n",
      "80.0\n",
      "80.0\n"
     ]
    },
    {
     "data": {
      "image/png": "[encoded data removed]",
      "text/plain": [
       "<Figure size 432x288 with 1 Axes>"
      ]
     },
     "metadata": {
      "needs_background": "light"
     },
     "output_type": "display_data"
    },
    {
     "data": {
      "image/png": "[encoded data removed]",
      "text/plain": [
       "<Figure size 432x288 with 2 Axes>"
      ]
     },
     "metadata": {
      "needs_background": "light"
     },
     "output_type": "display_data"
    },
    {
     "data": {
      "image/png": "[encoded data removed]",
      "text/plain": [
       "<Figure size 432x288 with 1 Axes>"
      ]
     },
     "metadata": {
      "needs_background": "light"
     },
     "output_type": "display_data"
    },
    {
     "data": {
      "image/png": "[encoded data removed]",
      "text/plain": [
       "<Figure size 432x288 with 2 Axes>"
      ]
     },
     "metadata": {
      "needs_background": "light"
     },
     "output_type": "display_data"
    },
    {
     "data": {
      "image/png": "[encoded data removed]",
      "text/plain": [
       "<Figure size 432x288 with 1 Axes>"
      ]
     },
     "metadata": {
      "needs_background": "light"
     },
     "output_type": "display_data"
    },
    {
     "data": {
      "image/png": "[encoded data removed]",
      "text/plain": [
       "<Figure size 432x288 with 2 Axes>"
      ]
     },
     "metadata": {
      "needs_background": "light"
     },
     "output_type": "display_data"
    },
    {
     "data": {
      "text/plain": [
       "<Figure size 432x288 with 0 Axes>"
      ]
     },
     "metadata": {},
     "output_type": "display_data"
    }
   ],
   "source": [
    "dataset = vKittiDataset(csv_file=configs.TRAIN_CSV ,root_dir=configs.ROOT_DIR, is_train=True)\n",
    "loader = DataLoader(dataset, batch_size=1)\n",
    "\n",
    "# print(len(loader))\n",
    "i = 0\n",
    "for sample in loader:\n",
    "\n",
    "  plt.imshow(torch.squeeze(sample['image']).permute(1, 2, 0))\n",
    "  plt.figure()\n",
    "\n",
    "  plt.imshow(torch.squeeze(sample['depth']), cmap=configs.CMAP_STYLE)\n",
    "  plt.colorbar()\n",
    "  plt.figure()\n",
    "\n",
    "  i += 1\n",
    "  if (i > 2):\n",
    "    break"
   ]
  },
  {
   "cell_type": "markdown",
   "metadata": {
    "id": "sdIz1rkNt0UF"
   },
   "source": [
    "### Depth Estimation Network"
   ]
  },
  {
   "cell_type": "markdown",
   "metadata": {},
   "source": [
    "##### Encoder Network"
   ]
  },
  {
   "cell_type": "code",
   "execution_count": null,
   "metadata": {},
   "outputs": [],
   "source": [
    "# Encoder uses the Densenet-169 pre-trained on Imagenet dataset\n",
    "class Encoder(nn.Module):\n",
    "    def __init__(self):\n",
    "        super(Encoder, self).__init__()       \n",
    "        self.original_model = models.densenet169( pretrained=True )\n",
    "\n",
    "    def forward(self, x):\n",
    "        features = [x]\n",
    "\n",
    "        ''' Starting with the input image, the output received by feeding the last stored feature into each module of the Densenet \n",
    "        model is stored in features list '''\n",
    "        \n",
    "        for name, module in self.original_model.features._modules.items(): \n",
    "            features.append( module(features[-1]) )\n",
    "        return features"
   ]
  },
  {
   "cell_type": "markdown",
   "metadata": {},
   "source": [
    "##### Decoder Network"
   ]
  },
  {
   "cell_type": "code",
   "execution_count": null,
   "metadata": {},
   "outputs": [],
   "source": [
    "'''\n",
    "The decoder is composed of blocks of convolutional layers applied with 2x bilinear upsampling of the previous \n",
    "block connected with skip-connections to the block in the encoder with the same spatial size so each upsample \n",
    "block will have two inputs, one is the ouput of the previous block and second is from the skip-connections.\n",
    "'''\n",
    "\n",
    "class Decoder(nn.Module):\n",
    "    def __init__(self, num_features=1664, decoder_width = 1.0):\n",
    "        super(Decoder, self).__init__()\n",
    "\n",
    "        # Defines the first conv2d layer to transform the output from encder depending on the size of the decoder / decoder_width\n",
    "        features = int(num_features * decoder_width)\n",
    "        self.conv2 = nn.Conv2d(num_features, features, kernel_size=1, stride=1, padding=0)\n",
    "        \n",
    "        # Defines the upsample blocks with input_features = output_features from previous layer + features from skip connection\n",
    "        self.up1 = UpSample(input_features=features//1 + 256, output_features=features//2)\n",
    "        self.up2 = UpSample(input_features=features//2 + 128,  output_features=features//4)\n",
    "        self.up3 = UpSample(input_features=features//4 + 64,  output_features=features//8)\n",
    "        self.up4 = UpSample(input_features=features//8 + 64,  output_features=features//16)\n",
    "\n",
    "        # Defines final conv2d layer to transform the number of channels from 104 to 1 \n",
    "        self.conv3 = nn.Conv2d(features//16, 1, kernel_size=3, stride=1, padding=1)\n",
    "\n",
    "    def forward(self, features):\n",
    "        # Skip connections from encoder\n",
    "        x_block0, x_block1, x_block2, x_block3, x_block4 = features[3], features[4], features[6], features[8], features[12]\n",
    "        # First conv2D layer transforms the output of the encoder based on the size of the decoder / decoder_width\n",
    "        x_d0 = self.conv2(F.relu(x_block4))\n",
    "        # First Upsample Block: concats output from encoder of shape (1664, 16, 16) with (256, 32, 32) block from encoder  ---> (832,32,32)\n",
    "        x_d1 = self.up1(x_d0, x_block3)\n",
    "        # Second Upsample Block: concats output of first upsample block with (128, 64, 64) block from encoder  ---> (416,64,64)\n",
    "        x_d2 = self.up2(x_d1, x_block2)\n",
    "        # Third Upsample Block: concats output of second upsample block with (64, 128, 128) block from encoder  ---> (208,128,128)\n",
    "        x_d3 = self.up3(x_d2, x_block1)\n",
    "        # Fourth Upsample Block: concats output of third upsample block with (64, 256, 256) block from encoder  ---> (104,256,256)\n",
    "        x_d4 = self.up4(x_d3, x_block0)\n",
    "        # Final conv2D layer transforms the output from fourth upsample layer into feature vector of shape (1,256,256)\n",
    "        return self.conv3(x_d4)\n",
    "\n",
    "\n",
    "\n",
    "# Upsample block with convolutional layers concatenated with 2x bilinear upsampling and skip connections\n",
    "class UpSample(nn.Sequential):\n",
    "    def __init__(self, input_features, output_features):\n",
    "        super(UpSample, self).__init__()        \n",
    "        self.convA = nn.Conv2d(input_features, output_features, kernel_size=3, stride=1, padding=1)\n",
    "        self.leakyreluA = nn.LeakyReLU(0.2)\n",
    "        self.convB = nn.Conv2d(output_features, output_features, kernel_size=3, stride=1, padding=1)\n",
    "        self.leakyreluB = nn.LeakyReLU(0.2)\n",
    "\n",
    "    # On each forward pass the input from skip connection is upscaled and concatenated with output from previous block\n",
    "    def forward(self, x, concat_with):\n",
    "        up_x = F.interpolate(x, size=[concat_with.size(2), concat_with.size(3)], mode='bilinear', align_corners=True)\n",
    "        return self.leakyreluB( self.convB( self.convA( torch.cat([up_x, concat_with], dim=1)  ) )  )"
   ]
  },
  {
   "cell_type": "markdown",
   "metadata": {},
   "source": [
    "##### Unet Generator Network"
   ]
  },
  {
   "cell_type": "code",
   "execution_count": null,
   "metadata": {},
   "outputs": [],
   "source": [
    "# The Unet autoencoder formed by using the encoder and decoder is used as the generator\n",
    "class Generator(nn.Module):\n",
    "    def __init__(self):\n",
    "        super(Generator, self).__init__()\n",
    "        self.encoder = Encoder()\n",
    "        self.decoder = Decoder()\n",
    "\n",
    "    def forward(self, x):\n",
    "        out2 = self.encoder(x)\n",
    "        out3 = self.decoder(out2)\n",
    "        return out3"
   ]
  },
  {
   "cell_type": "code",
   "execution_count": null,
   "metadata": {
    "colab": {
     "base_uri": "https://localhost:8080/"
    },
    "execution": {
     "iopub.execute_input": "2022-07-09T20:49:24.393591Z",
     "iopub.status.busy": "2022-07-09T20:49:24.393429Z",
     "iopub.status.idle": "2022-07-09T20:49:24.709008Z",
     "shell.execute_reply": "2022-07-09T20:49:24.708447Z",
     "shell.execute_reply.started": "2022-07-09T20:49:24.393570Z"
    },
    "executionInfo": {
     "elapsed": 1227,
     "status": "ok",
     "timestamp": 1654774651911,
     "user": {
      "displayName": "Avishka Amunugama",
      "userId": "08200099877759974834"
     },
     "user_tz": -330
    },
    "id": "cpid01yBsvGH",
    "outputId": "7c25da02-7e85-4259-bbcc-d1f3296e9f7f"
   },
   "outputs": [],
   "source": [
    "# Testing generator model output\n",
    "\n",
    "def test():\n",
    "    x = torch.randn((1, 3, 828, 250))\n",
    "    model = Generator()\n",
    "    preds = model(x)\n",
    "    print(preds.shape)\n",
    "\n",
    "test()\n",
    "\n",
    "# Cell Output -> torch.Size([1, 1, 414, 125])"
   ]
  },
  {
   "cell_type": "markdown",
   "metadata": {},
   "source": [
    "##### Patch Discriminator Network"
   ]
  },
  {
   "cell_type": "code",
   "execution_count": null,
   "metadata": {},
   "outputs": [],
   "source": [
    "'''\n",
    "A Patch Discriminator is used so instead of returning a single probability of the input being a fake or not, \n",
    "it divides the image into patches and returns a matrix of probabilities of each patch being fake or not.\n",
    "'''\n",
    "class Discriminator(nn.Module):\n",
    "    def __init__(self):\n",
    "        super().__init__()\n",
    "        # In channels count is equal to the sum of channels in feature vector x and y \n",
    "        in_channels = 4\n",
    "\n",
    "        ''' Defining the CNN blocks with conv2D layers with output channels(filters) of size 64, 128, 256, 512\n",
    "        and a kernel size of 4 and stride of 2 except for the last block in order to form a patch size of 70x70 '''\n",
    "\n",
    "        ''' All CNN blocks except for the first block will have a conv2D layer followed by a batch normalization \n",
    "        and a leaky relu layer '''\n",
    "        self.block_0 = nn.Sequential(\n",
    "            nn.Conv2d(in_channels, out_channels=64, kernel_size=4, stride=2, padding=1, padding_mode='reflect'),\n",
    "            nn.LeakyReLU(0.2)\n",
    "            )\n",
    "        self.block_1 = CNNBlock(in_channels=64, out_channels=128, stride=2)\n",
    "        self.block_2 = CNNBlock(in_channels=128, out_channels=256, stride=2)\n",
    "        self.block_3 = CNNBlock(in_channels=256, out_channels= 512, stride=1)\n",
    "        self.block_4 = nn.Conv2d(in_channels=512, out_channels=1, kernel_size=4, stride=1, padding=1, padding_mode='reflect')\n",
    "\n",
    "\n",
    "    def forward(self, x, y):\n",
    "        # The predicted image x is concatenated with the ground-truth/ excepted image and passed into the discriminator blocks\n",
    "        x = torch.cat([x, y], dim=1) #  Shape of x = (4, 512, 512)\n",
    "        '''\n",
    "        As mentioned in this thread \"https://github.com/phillipi/pix2pix/issues/49#issuecomment-310819127\" \n",
    "        The patch size of the discriminator can be calculated as follows:\n",
    "            patch_size = (output_size - 1) * stride + kernel_size \n",
    "        '''\n",
    "        x_0 = self.block_0(x)   #  Shape of x_0 = (64, 256, 256)    Patch_size = [(34-1) * 2 + 4] = 70\n",
    "        x_1 = self.block_1(x_0) #  Shape of x_1 = (128, 128, 128)   Patch_size = [(16-1) * 2 + 4] = 34\n",
    "        x_2 = self.block_2(x_1) #  Shape of x_2 = (256, 64, 64)     Patch_size = [(7-1) * 2 + 4] = 16\n",
    "        x_3 = self.block_3(x_2) #  Shape of x_3 = (512, 63, 63)     Patch_size = [(4-1) * 1 + 4] = 7\n",
    "        x_4 = self.block_4(x_3) #  Shape of x_4 = (1, 62, 62)       Patch_size = [(1-1) * 1 + 4] = 4\n",
    "        return x_4\n",
    "\n",
    "\n",
    "\n",
    "# Each CNN Block consists a conv2D followed by a BatchNorm and lealy relu layer\n",
    "class CNNBlock(nn.Module):\n",
    "    def __init__(self, in_channels, out_channels, stride):\n",
    "        super(CNNBlock, self).__init__()\n",
    "        self.conv = nn.Sequential(\n",
    "            nn.Conv2d(in_channels, out_channels, kernel_size=4, stride=stride, padding=1, bias=False, padding_mode='reflect'),\n",
    "            nn.BatchNorm2d(out_channels),\n",
    "            nn.LeakyReLU(0.2)\n",
    "            )\n",
    "\n",
    "    def forward(self, x):\n",
    "        return self.conv(x)\n"
   ]
  },
  {
   "cell_type": "code",
   "execution_count": null,
   "metadata": {},
   "outputs": [],
   "source": [
    "# Testing Patch Discriminator output\n",
    "\n",
    "def test():\n",
    "    x = torch.randn((1, 3, 828, 250))\n",
    "    y = torch.randn((1, 1, 414, 125))\n",
    "    model = Discriminator()\n",
    "    preds = model(x, upscale_depth_tensor(y))\n",
    "    print(preds.shape)\n",
    "\n",
    "test()\n",
    "\n",
    "# Cell Output -> torch.Size([1, 1, 62, 62])"
   ]
  },
  {
   "cell_type": "markdown",
   "metadata": {
    "id": "_n5qgw0mu6sP"
   },
   "source": [
    "### Initializing model, defining optimizer and other training parameters"
   ]
  },
  {
   "cell_type": "code",
   "execution_count": 8,
   "metadata": {
    "colab": {
     "base_uri": "https://localhost:8080/"
    },
    "execution": {
     "iopub.execute_input": "2022-07-09T20:49:27.529943Z",
     "iopub.status.busy": "2022-07-09T20:49:27.529481Z",
     "iopub.status.idle": "2022-07-09T20:49:34.404054Z",
     "shell.execute_reply": "2022-07-09T20:49:34.403362Z",
     "shell.execute_reply.started": "2022-07-09T20:49:27.529904Z"
    },
    "executionInfo": {
     "elapsed": 12922,
     "status": "ok",
     "timestamp": 1654774690769,
     "user": {
      "displayName": "Avishka Amunugama",
      "userId": "08200099877759974834"
     },
     "user_tz": -330
    },
    "id": "JXctg76Wu45r",
    "outputId": "759362b6-ad6b-4c50-d911-5d7f5a1224ce"
   },
   "outputs": [
    {
     "name": "stdout",
     "output_type": "stream",
     "text": [
      "Models created.\n"
     ]
    }
   ],
   "source": [
    "# Initializing models\n",
    "disc = Discriminator().to(configs.DEVICE)\n",
    "gen = Generator().to(configs.DEVICE)\n",
    "print('Models created.')\n",
    "\n",
    "# Defining optimizers\n",
    "opt_disc = optim.Adam(disc.parameters(), lr=configs.LEARNING_RATE, betas=configs.BETAS)\n",
    "opt_gen = optim.Adam(gen.parameters(), lr=configs.LEARNING_RATE)\n",
    "\n",
    "# Defining training parameters\n",
    "d_scaler = torch.cuda.amp.GradScaler()\n",
    "g_scaler = torch.cuda.amp.GradScaler()\n",
    "\n",
    "# Defining tensorboard logging parameters\n",
    "prefix = 'WeatherDepth_' + str(configs.BATCH_SIZE)\n",
    "writer = SummaryWriter(comment='{}-lr{}-e{}-bs{}'.format(prefix, configs.LEARNING_RATE, configs.NUM_EPOCHS, configs.BATCH_SIZE), flush_secs=30)\n"
   ]
  },
  {
   "cell_type": "markdown",
   "metadata": {},
   "source": [
    "### Defining Loss Functions"
   ]
  },
  {
   "cell_type": "markdown",
   "metadata": {},
   "source": [
    "##### Base Loss Functions"
   ]
  },
  {
   "cell_type": "code",
   "execution_count": null,
   "metadata": {},
   "outputs": [],
   "source": [
    "# Binary cross entropy loss is used calculate how likely each image patch is real or fake.\n",
    "# BCEWithLogitsLoss because it combines BCEloss with a sigmoid layer for better stability.\n",
    "BCE = nn.BCEWithLogitsLoss()\n",
    "L1_LOSS = nn.L1Loss()"
   ]
  },
  {
   "cell_type": "markdown",
   "metadata": {},
   "source": [
    "##### Generator Loss Function"
   ]
  },
  {
   "cell_type": "code",
   "execution_count": null,
   "metadata": {},
   "outputs": [],
   "source": [
    "def generatorLoss(real_image, real_depth):\n",
    "    # Fake depth map is generated by passing the real image to generator\n",
    "    fake_depth = gen(real_image)\n",
    "\n",
    "    '''\n",
    "    1st Loss: The mean absolute error between fakedepth and the ground truth real depth  is calculated \n",
    "    and it is multiplied by l1_lamba of 100 to maximize the significance of this this loss over the other.'''\n",
    "    G_L1 = L1_LOSS(upscale_depth_tensor(fake_depth), real_depth) * configs.L1_LAMBDA\n",
    "\n",
    "    # The exact matrix of probabilites of real_image and fake_depth\n",
    "    D_fake = disc(real_image, upscale_depth_tensor(fake_depth))\n",
    "\n",
    "    '''\n",
    "    2nd Loss: Adversarial Loss - The binary cross entropy loss of how likely D_Fake is 100% real is taken and \n",
    "    the generator is tricked into understanding the D_fake probability matrix as being real.\n",
    "    '''\n",
    "    G_fake_loss = BCE(D_fake, torch.ones_like(D_fake))\n",
    "\n",
    "    ''' \n",
    "    3rd Loss: The structural similarity loss \n",
    "    '''\n",
    "    structural_similarity = ssim(upscale_depth_tensor(fake_depth), real_depth)\n",
    "    structural_similarity_clamped = torch.clamp((1 - structural_similarity) * 0.5, 0, 1).mean().item()\n",
    "    SSIM_LOSS =  structural_similarity_clamped * configs.SSIM_LAMBDA\n",
    "    G_loss = SSIM_LOSS + G_L1 + G_fake_loss\n",
    "    return G_loss, D_fake"
   ]
  },
  {
   "cell_type": "markdown",
   "metadata": {},
   "source": [
    "##### Patch Discriminator Loss Function"
   ]
  },
  {
   "cell_type": "code",
   "execution_count": null,
   "metadata": {},
   "outputs": [],
   "source": [
    "def discriminatorLoss(real_image, real_depth):\n",
    "    # Fake depth map is generated by passing the real image to generator\n",
    "    fake_depth = gen(real_image)\n",
    "\n",
    "    # The exact matrix of probabilites of real_image and real_depth\n",
    "    D_real = disc(real_image, real_depth)\n",
    "    # The exact matrix of probabilites of real_image and fake_depth\n",
    "    D_fake = disc(real_image, upscale_depth_tensor(fake_depth.detach()))\n",
    "\n",
    "    # Returns the likelihood the D_real is 100% real (Probability matix with all ones) \n",
    "    D_real_loss = BCE(D_real, torch.ones_like(D_real))\n",
    "    # Returns the likelihood the D_fake is 100% fake (Probability matix with all zeros) \n",
    "    D_fake_loss = BCE(D_fake, torch.zeros_like(D_fake))\n",
    "\n",
    "    # The final loss of the discriminator will be the average of D_real_loss and D_fake_loss\n",
    "    D_loss = (D_real_loss + D_fake_loss) / 2\n",
    "    return D_loss, D_real"
   ]
  },
  {
   "cell_type": "markdown",
   "metadata": {},
   "source": [
    "### Initializing data loaders"
   ]
  },
  {
   "cell_type": "code",
   "execution_count": null,
   "metadata": {},
   "outputs": [],
   "source": [
    "train_dataset = vKittiDataset(csv_file=configs.TRAIN_CSV, root_dir=configs.ROOT_DIR, is_train=True)\n",
    "train_loader = DataLoader(train_dataset, batch_size=configs.BATCH_SIZE, shuffle=True, num_workers=configs.NUM_WORKERS)\n",
    "\n",
    "val_dataset = vKittiDataset(csv_file=configs.VAL_CSV, root_dir=configs.ROOT_DIR)\n",
    "val_loader = DataLoader(val_dataset, batch_size=1, shuffle=False)\n",
    "\n",
    "test_dataset = vKittiDataset(csv_file=configs.TEST_CSV, root_dir=configs.ROOT_DIR)\n",
    "test_loader = DataLoader(test_dataset, batch_size=1, shuffle=False)"
   ]
  },
  {
   "cell_type": "markdown",
   "metadata": {
    "id": "tJPeOG0iue_W"
   },
   "source": [
    "### Training the network"
   ]
  },
  {
   "cell_type": "code",
   "execution_count": 11,
   "metadata": {
    "colab": {
     "base_uri": "https://localhost:8080/"
    },
    "id": "DuekXJyKub1T",
    "outputId": "a4adbf1d-17c8-42e2-dc78-307fface3f89"
   },
   "outputs": [
    {
     "name": "stderr",
     "output_type": "stream",
     "text": [
      "100%|██████████| 1425/1425 [12:20<00:00,  1.93it/s, D_loss=0.996, Epoch=0, GAN_loss=156, G_loss=0.00319] \n"
     ]
    },
    {
     "name": "stdout",
     "output_type": "stream",
     "text": [
      "=> Saving discriminator checkpoint.\n",
      "=> Saving generator checkpoint.\n",
      "Abs_Rel: 0.204508, Sq_Rel: 3.793371, RMSE: 8.027110, RMSE_Log: 0.450783\n",
      "Accuracy Metrics a1: 0.836479, a2: 0.918757, a3: 0.949553\n",
      "\n"
     ]
    },
    {
     "name": "stderr",
     "output_type": "stream",
     "text": [
      "100%|██████████| 1425/1425 [12:02<00:00,  1.97it/s, D_loss=0.993, Epoch=1, GAN_loss=144, G_loss=0.00313]\n"
     ]
    },
    {
     "name": "stdout",
     "output_type": "stream",
     "text": [
      "=> Saving discriminator checkpoint.\n",
      "=> Saving generator checkpoint.\n",
      "Abs_Rel: 0.184371, Sq_Rel: 2.839151, RMSE: 6.739192, RMSE_Log: 0.387051\n",
      "Accuracy Metrics a1: 0.868776, a2: 0.940742, a3: 0.961671\n",
      "\n"
     ]
    },
    {
     "name": "stderr",
     "output_type": "stream",
     "text": [
      "100%|██████████| 1425/1425 [12:02<00:00,  1.97it/s, D_loss=0.997, Epoch=2, GAN_loss=134, G_loss=0.00148]\n"
     ]
    },
    {
     "name": "stdout",
     "output_type": "stream",
     "text": [
      "=> Saving discriminator checkpoint.\n",
      "=> Saving generator checkpoint.\n",
      "Abs_Rel: 0.139116, Sq_Rel: 1.967106, RMSE: 6.062354, RMSE_Log: 0.357968\n",
      "Accuracy Metrics a1: 0.900915, a2: 0.950683, a3: 0.968331\n",
      "\n"
     ]
    },
    {
     "name": "stderr",
     "output_type": "stream",
     "text": [
      "100%|██████████| 1425/1425 [12:02<00:00,  1.97it/s, D_loss=1, Epoch=3, GAN_loss=101, G_loss=0.000487]    \n"
     ]
    },
    {
     "name": "stdout",
     "output_type": "stream",
     "text": [
      "=> Saving discriminator checkpoint.\n",
      "=> Saving generator checkpoint.\n",
      "Abs_Rel: 0.152637, Sq_Rel: 2.279836, RMSE: 5.816247, RMSE_Log: 0.285663\n",
      "Accuracy Metrics a1: 0.891835, a2: 0.949001, a3: 0.968103\n",
      "\n"
     ]
    },
    {
     "name": "stderr",
     "output_type": "stream",
     "text": [
      "100%|██████████| 1425/1425 [12:02<00:00,  1.97it/s, D_loss=0.996, Epoch=4, GAN_loss=149, G_loss=0.005]   \n"
     ]
    },
    {
     "name": "stdout",
     "output_type": "stream",
     "text": [
      "=> Saving discriminator checkpoint.\n",
      "=> Saving generator checkpoint.\n",
      "Abs_Rel: 0.122196, Sq_Rel: 1.731881, RMSE: 5.336659, RMSE_Log: 0.415762\n",
      "Accuracy Metrics a1: 0.906669, a2: 0.956220, a3: 0.972750\n",
      "\n"
     ]
    },
    {
     "name": "stderr",
     "output_type": "stream",
     "text": [
      "100%|██████████| 1425/1425 [12:03<00:00,  1.97it/s, D_loss=1, Epoch=5, GAN_loss=99.3, G_loss=0.000227]    \n"
     ]
    },
    {
     "name": "stdout",
     "output_type": "stream",
     "text": [
      "=> Saving discriminator checkpoint.\n",
      "=> Saving generator checkpoint.\n",
      "Abs_Rel: 0.105890, Sq_Rel: 1.311488, RMSE: 5.182618, RMSE_Log: 0.352988\n",
      "Accuracy Metrics a1: 0.915908, a2: 0.958986, a3: 0.975100\n",
      "\n"
     ]
    },
    {
     "name": "stderr",
     "output_type": "stream",
     "text": [
      "100%|██████████| 1425/1425 [12:02<00:00,  1.97it/s, D_loss=1, Epoch=6, GAN_loss=95.7, G_loss=0.000682]    \n"
     ]
    },
    {
     "name": "stdout",
     "output_type": "stream",
     "text": [
      "=> Saving discriminator checkpoint.\n",
      "=> Saving generator checkpoint.\n",
      "Abs_Rel: 0.105789, Sq_Rel: 1.295935, RMSE: 4.873134, RMSE_Log: 0.271247\n",
      "Accuracy Metrics a1: 0.925357, a2: 0.961942, a3: 0.976672\n",
      "\n"
     ]
    },
    {
     "name": "stderr",
     "output_type": "stream",
     "text": [
      "100%|██████████| 1425/1425 [12:03<00:00,  1.97it/s, D_loss=0.999, Epoch=7, GAN_loss=112, G_loss=0.000748] \n"
     ]
    },
    {
     "name": "stdout",
     "output_type": "stream",
     "text": [
      "=> Saving discriminator checkpoint.\n",
      "=> Saving generator checkpoint.\n",
      "Abs_Rel: 0.108416, Sq_Rel: 1.287707, RMSE: 4.823605, RMSE_Log: 0.253190\n",
      "Accuracy Metrics a1: 0.925292, a2: 0.963679, a3: 0.977956\n",
      "\n"
     ]
    },
    {
     "name": "stderr",
     "output_type": "stream",
     "text": [
      "100%|██████████| 1425/1425 [12:03<00:00,  1.97it/s, D_loss=1, Epoch=8, GAN_loss=103, G_loss=0.000195]     \n"
     ]
    },
    {
     "name": "stdout",
     "output_type": "stream",
     "text": [
      "=> Saving discriminator checkpoint.\n",
      "=> Saving generator checkpoint.\n",
      "Abs_Rel: 0.103433, Sq_Rel: 1.380613, RMSE: 4.853555, RMSE_Log: 0.278735\n",
      "Accuracy Metrics a1: 0.925036, a2: 0.962369, a3: 0.976965\n",
      "\n"
     ]
    },
    {
     "name": "stderr",
     "output_type": "stream",
     "text": [
      "100%|██████████| 1425/1425 [12:03<00:00,  1.97it/s, D_loss=0.999, Epoch=9, GAN_loss=91.2, G_loss=0.00196]\n"
     ]
    },
    {
     "name": "stdout",
     "output_type": "stream",
     "text": [
      "=> Saving discriminator checkpoint.\n",
      "=> Saving generator checkpoint.\n",
      "Abs_Rel: 0.097523, Sq_Rel: 1.197100, RMSE: 4.614916, RMSE_Log: 0.282391\n",
      "Accuracy Metrics a1: 0.929031, a2: 0.964204, a3: 0.978629\n",
      "\n"
     ]
    },
    {
     "name": "stderr",
     "output_type": "stream",
     "text": [
      "100%|██████████| 1425/1425 [12:04<00:00,  1.97it/s, D_loss=1, Epoch=10, GAN_loss=113, G_loss=0.000173]     \n"
     ]
    },
    {
     "name": "stdout",
     "output_type": "stream",
     "text": [
      "=> Saving discriminator checkpoint.\n",
      "=> Saving generator checkpoint.\n",
      "Abs_Rel: 0.096251, Sq_Rel: 1.081135, RMSE: 4.537099, RMSE_Log: 0.297795\n",
      "Accuracy Metrics a1: 0.925207, a2: 0.963877, a3: 0.978954\n",
      "\n"
     ]
    },
    {
     "name": "stderr",
     "output_type": "stream",
     "text": [
      "100%|██████████| 1425/1425 [12:08<00:00,  1.96it/s, D_loss=0.995, Epoch=11, GAN_loss=96.9, G_loss=0.00282] \n"
     ]
    },
    {
     "name": "stdout",
     "output_type": "stream",
     "text": [
      "=> Saving discriminator checkpoint.\n",
      "=> Saving generator checkpoint.\n",
      "Abs_Rel: 0.103514, Sq_Rel: 1.226390, RMSE: 4.567407, RMSE_Log: 0.216577\n",
      "Accuracy Metrics a1: 0.929596, a2: 0.965195, a3: 0.979242\n",
      "\n"
     ]
    },
    {
     "name": "stderr",
     "output_type": "stream",
     "text": [
      "100%|██████████| 1425/1425 [12:10<00:00,  1.95it/s, D_loss=1, Epoch=12, GAN_loss=83.5, G_loss=9.01e-5]     \n"
     ]
    },
    {
     "name": "stdout",
     "output_type": "stream",
     "text": [
      "=> Saving discriminator checkpoint.\n",
      "=> Saving generator checkpoint.\n",
      "Abs_Rel: 0.082691, Sq_Rel: 0.977390, RMSE: 4.426124, RMSE_Log: 0.236092\n",
      "Accuracy Metrics a1: 0.936533, a2: 0.967247, a3: 0.980841\n",
      "\n"
     ]
    },
    {
     "name": "stderr",
     "output_type": "stream",
     "text": [
      "100%|██████████| 1425/1425 [12:10<00:00,  1.95it/s, D_loss=1, Epoch=13, GAN_loss=89.1, G_loss=9.94e-5]    \n"
     ]
    },
    {
     "name": "stdout",
     "output_type": "stream",
     "text": [
      "=> Saving discriminator checkpoint.\n",
      "=> Saving generator checkpoint.\n",
      "Abs_Rel: 0.081481, Sq_Rel: 1.014335, RMSE: 4.486976, RMSE_Log: 0.198792\n",
      "Accuracy Metrics a1: 0.937216, a2: 0.967735, a3: 0.981173\n",
      "\n"
     ]
    },
    {
     "name": "stderr",
     "output_type": "stream",
     "text": [
      "100%|██████████| 1425/1425 [12:09<00:00,  1.95it/s, D_loss=1, Epoch=14, GAN_loss=92.7, G_loss=1.47e-5] \n"
     ]
    },
    {
     "name": "stdout",
     "output_type": "stream",
     "text": [
      "=> Saving discriminator checkpoint.\n",
      "=> Saving generator checkpoint.\n",
      "Abs_Rel: 0.086776, Sq_Rel: 0.995320, RMSE: 4.429957, RMSE_Log: 0.225931\n",
      "Accuracy Metrics a1: 0.934639, a2: 0.967303, a3: 0.981020\n",
      "\n"
     ]
    },
    {
     "name": "stderr",
     "output_type": "stream",
     "text": [
      "100%|██████████| 1425/1425 [12:09<00:00,  1.95it/s, D_loss=0.871, Epoch=15, GAN_loss=75.1, G_loss=0.14] \n"
     ]
    },
    {
     "name": "stdout",
     "output_type": "stream",
     "text": [
      "=> Saving discriminator checkpoint.\n",
      "=> Saving generator checkpoint.\n",
      "Abs_Rel: 0.087714, Sq_Rel: 1.028980, RMSE: 4.350085, RMSE_Log: 0.218675\n",
      "Accuracy Metrics a1: 0.939408, a2: 0.968781, a3: 0.981528\n",
      "\n"
     ]
    },
    {
     "name": "stderr",
     "output_type": "stream",
     "text": [
      "100%|██████████| 1425/1425 [12:09<00:00,  1.95it/s, D_loss=0.997, Epoch=16, GAN_loss=77.5, G_loss=0.00937]\n"
     ]
    },
    {
     "name": "stdout",
     "output_type": "stream",
     "text": [
      "=> Saving discriminator checkpoint.\n",
      "=> Saving generator checkpoint.\n",
      "Abs_Rel: 0.081817, Sq_Rel: 0.966800, RMSE: 4.371482, RMSE_Log: 0.223595\n",
      "Accuracy Metrics a1: 0.937749, a2: 0.968098, a3: 0.981264\n",
      "\n"
     ]
    },
    {
     "name": "stderr",
     "output_type": "stream",
     "text": [
      "100%|██████████| 1425/1425 [12:09<00:00,  1.95it/s, D_loss=0.995, Epoch=17, GAN_loss=89.7, G_loss=0.005]  \n"
     ]
    },
    {
     "name": "stdout",
     "output_type": "stream",
     "text": [
      "=> Saving discriminator checkpoint.\n",
      "=> Saving generator checkpoint.\n",
      "Abs_Rel: 0.077103, Sq_Rel: 0.997711, RMSE: 4.334688, RMSE_Log: 0.216793\n",
      "Accuracy Metrics a1: 0.942480, a2: 0.969345, a3: 0.981817\n",
      "\n"
     ]
    },
    {
     "name": "stderr",
     "output_type": "stream",
     "text": [
      "100%|██████████| 1425/1425 [12:09<00:00,  1.95it/s, D_loss=0.962, Epoch=18, GAN_loss=90.2, G_loss=0.0276]  \n"
     ]
    },
    {
     "name": "stdout",
     "output_type": "stream",
     "text": [
      "=> Saving discriminator checkpoint.\n",
      "=> Saving generator checkpoint.\n",
      "Abs_Rel: 0.086678, Sq_Rel: 1.097125, RMSE: 4.311841, RMSE_Log: 0.263928\n",
      "Accuracy Metrics a1: 0.939375, a2: 0.967769, a3: 0.980474\n",
      "\n"
     ]
    },
    {
     "name": "stderr",
     "output_type": "stream",
     "text": [
      "100%|██████████| 1425/1425 [12:10<00:00,  1.95it/s, D_loss=1, Epoch=19, GAN_loss=85.3, G_loss=0.00106]     \n"
     ]
    },
    {
     "name": "stdout",
     "output_type": "stream",
     "text": [
      "=> Saving discriminator checkpoint.\n",
      "=> Saving generator checkpoint.\n",
      "Abs_Rel: 0.079138, Sq_Rel: 0.889372, RMSE: 4.378173, RMSE_Log: 0.232304\n",
      "Accuracy Metrics a1: 0.941390, a2: 0.968896, a3: 0.981908\n",
      "\n"
     ]
    },
    {
     "name": "stderr",
     "output_type": "stream",
     "text": [
      "100%|██████████| 1425/1425 [12:09<00:00,  1.95it/s, D_loss=0.999, Epoch=20, GAN_loss=90.7, G_loss=0.00122] \n"
     ]
    },
    {
     "name": "stdout",
     "output_type": "stream",
     "text": [
      "=> Saving discriminator checkpoint.\n",
      "=> Saving generator checkpoint.\n",
      "Abs_Rel: 0.078720, Sq_Rel: 0.995567, RMSE: 4.361767, RMSE_Log: 0.216000\n",
      "Accuracy Metrics a1: 0.942695, a2: 0.969425, a3: 0.981748\n",
      "\n"
     ]
    },
    {
     "name": "stderr",
     "output_type": "stream",
     "text": [
      "  0%|          | 0/1425 [00:00<?, ?it/s]"
     ]
    }
   ],
   "source": [
    "# Load model if contueing from saved checkpoints\n",
    "if configs.LOAD_MODEL:\n",
    "    load_checkpoint('{}/GEN_{}.pt'.format(configs.CHECKPOINT_PATH, 20), gen, opt_gen, configs.LEARNING_RATE, message='=> Loading generator checkpoint')\n",
    "    load_checkpoint('{}/DESC_{}.pt'.format(configs.CHECKPOINT_PATH, 20), disc, opt_disc, configs.LEARNING_RATE, message='=> Loading discriminator checkpoint')\n",
    "\n",
    "# Start training...\n",
    "for epoch in range(0,configs.NUM_EPOCHS + 1):\n",
    "\n",
    "    loop = tqdm(train_loader, leave=True)\n",
    "    N = len(train_loader)\n",
    "\n",
    "    # Switching both models to train mode\n",
    "    disc.train()\n",
    "    gen.train()\n",
    "\n",
    "    # Iterating through the traning dataset\n",
    "    for idx, sample_batched in enumerate(loop):\n",
    "        \n",
    "        # RGB input image\n",
    "        image = torch.autograd.Variable(sample_batched['image'].to(configs.DEVICE))\n",
    "        # Ground truth depth map\n",
    "        depth_n = torch.autograd.Variable(sample_batched['depth'].to(configs.DEVICE))\n",
    "\n",
    "        # Training the patch discriminator\n",
    "        with torch.cuda.amp.autocast():\n",
    "            D_loss, D_real = discriminatorLoss(image, depth_n)\n",
    "        \n",
    "        # Updating the discriminator model weights with combined discriminator loss\n",
    "        disc.zero_grad()\n",
    "        d_scaler.scale(D_loss).backward()\n",
    "        d_scaler.step(opt_disc)\n",
    "        d_scaler.update()\n",
    "\n",
    "        # Training unet generator\n",
    "        with torch.cuda.amp.autocast():\n",
    "            G_loss, D_fake = generatorLoss(image, depth_n)\n",
    "\n",
    "        # Updating the generator model weights with combined generator loss\n",
    "        opt_gen.zero_grad()\n",
    "        g_scaler.scale(G_loss).backward()\n",
    "        g_scaler.step(opt_gen)\n",
    "        g_scaler.update()\n",
    "\n",
    "        n_iter = epoch*N+idx\n",
    "\n",
    "        if idx % 10 == 0:\n",
    "            # Log in results to tensorboard\n",
    "            writer.add_scalar('Discriminator-Loss', torch.sigmoid(D_real).mean().item(), n_iter)\n",
    "            writer.add_scalar('Generator-Loss', torch.sigmoid(D_fake).mean().item(), n_iter)\n",
    "\n",
    "            # Displaying training results\n",
    "            loop.set_postfix(\n",
    "                Epoch = epoch,\n",
    "                D_loss=torch.sigmoid(D_real).mean().item(),\n",
    "                G_loss=torch.sigmoid(D_fake).mean().item(),\n",
    "                GAN_loss=G_loss.mean().item()\n",
    "            )\n",
    "\n",
    "        if idx % 300 == 0:\n",
    "            LogProgress(gen, writer, test_loader, n_iter)\n",
    "\n",
    "    # Record epoch's intermediate results\n",
    "    LogProgress(gen, writer, test_loader, epoch)\n",
    "    writer.add_scalar('Discriminator-Loss', torch.sigmoid(D_real).mean().item(), epoch)\n",
    "    writer.add_scalar('Generator-Loss', torch.sigmoid(D_fake).mean().item(), epoch)\n",
    "    \n",
    "    # Save the trained model weights if required\n",
    "    if configs.SAVE_MODEL:\n",
    "      save_checkpoint(disc, opt_disc, filename='{}/DESC_{}.pt'.format(configs.CHECKPOINT_PATH, epoch), message='=> Saving discriminator checkpoint.')\n",
    "      save_checkpoint(gen, opt_gen, filename='{}/GEN_{}.pt'.format(configs.CHECKPOINT_PATH, epoch), message='=> Saving generator checkpoint.')\n",
    "\n",
    "    # Evaluating the model's performance after each epoch\n",
    "    evaluate_model(gen, val_loader)\n",
    "    # Saving some expamples to see the model's training progress\n",
    "    save_some_examples(gen, val_loader, epoch)\n"
   ]
  },
  {
   "cell_type": "markdown",
   "metadata": {
    "id": "nVGzgFgm687C"
   },
   "source": [
    "### Testing the trained model"
   ]
  },
  {
   "cell_type": "markdown",
   "metadata": {},
   "source": [
    "##### Load checkpoint if needed"
   ]
  },
  {
   "cell_type": "code",
   "execution_count": 9,
   "metadata": {
    "colab": {
     "base_uri": "https://localhost:8080/"
    },
    "execution": {
     "iopub.execute_input": "2022-07-09T20:49:34.405380Z",
     "iopub.status.busy": "2022-07-09T20:49:34.405140Z",
     "iopub.status.idle": "2022-07-09T20:49:38.097160Z",
     "shell.execute_reply": "2022-07-09T20:49:38.096553Z",
     "shell.execute_reply.started": "2022-07-09T20:49:34.405358Z"
    },
    "executionInfo": {
     "elapsed": 27685,
     "status": "ok",
     "timestamp": 1648789373769,
     "user": {
      "displayName": "Avishka Amunugama",
      "userId": "08200099877759974834"
     },
     "user_tz": -330
    },
    "id": "H1RsWhJu7HSb",
    "outputId": "d52064f2-397f-42ed-f728-5c280f44e3a0"
   },
   "outputs": [
    {
     "name": "stdout",
     "output_type": "stream",
     "text": [
      "=> Loading checkpoint state\n"
     ]
    },
    {
     "data": {
      "text/plain": [
       "Generator(\n",
       "  (encoder): Encoder(\n",
       "    (original_model): DenseNet(\n",
       "      (features): Sequential(\n",
       "        (conv0): Conv2d(3, 64, kernel_size=(7, 7), stride=(2, 2), padding=(3, 3), bias=False)\n",
       "        (norm0): BatchNorm2d(64, eps=1e-05, momentum=0.1, affine=True, track_running_stats=True)\n",
       "        (relu0): ReLU(inplace=True)\n",
       "        (pool0): MaxPool2d(kernel_size=3, stride=2, padding=1, dilation=1, ceil_mode=False)\n",
       "        (denseblock1): _DenseBlock(\n",
       "          (denselayer1): _DenseLayer(\n",
       "            (norm1): BatchNorm2d(64, eps=1e-05, momentum=0.1, affine=True, track_running_stats=True)\n",
       "            (relu1): ReLU(inplace=True)\n",
       "            (conv1): Conv2d(64, 128, kernel_size=(1, 1), stride=(1, 1), bias=False)\n",
       "            (norm2): BatchNorm2d(128, eps=1e-05, momentum=0.1, affine=True, track_running_stats=True)\n",
       "            (relu2): ReLU(inplace=True)\n",
       "            (conv2): Conv2d(128, 32, kernel_size=(3, 3), stride=(1, 1), padding=(1, 1), bias=False)\n",
       "          )\n",
       "          (denselayer2): _DenseLayer(\n",
       "            (norm1): BatchNorm2d(96, eps=1e-05, momentum=0.1, affine=True, track_running_stats=True)\n",
       "            (relu1): ReLU(inplace=True)\n",
       "            (conv1): Conv2d(96, 128, kernel_size=(1, 1), stride=(1, 1), bias=False)\n",
       "            (norm2): BatchNorm2d(128, eps=1e-05, momentum=0.1, affine=True, track_running_stats=True)\n",
       "            (relu2): ReLU(inplace=True)\n",
       "            (conv2): Conv2d(128, 32, kernel_size=(3, 3), stride=(1, 1), padding=(1, 1), bias=False)\n",
       "          )\n",
       "          (denselayer3): _DenseLayer(\n",
       "            (norm1): BatchNorm2d(128, eps=1e-05, momentum=0.1, affine=True, track_running_stats=True)\n",
       "            (relu1): ReLU(inplace=True)\n",
       "            (conv1): Conv2d(128, 128, kernel_size=(1, 1), stride=(1, 1), bias=False)\n",
       "            (norm2): BatchNorm2d(128, eps=1e-05, momentum=0.1, affine=True, track_running_stats=True)\n",
       "            (relu2): ReLU(inplace=True)\n",
       "            (conv2): Conv2d(128, 32, kernel_size=(3, 3), stride=(1, 1), padding=(1, 1), bias=False)\n",
       "          )\n",
       "          (denselayer4): _DenseLayer(\n",
       "            (norm1): BatchNorm2d(160, eps=1e-05, momentum=0.1, affine=True, track_running_stats=True)\n",
       "            (relu1): ReLU(inplace=True)\n",
       "            (conv1): Conv2d(160, 128, kernel_size=(1, 1), stride=(1, 1), bias=False)\n",
       "            (norm2): BatchNorm2d(128, eps=1e-05, momentum=0.1, affine=True, track_running_stats=True)\n",
       "            (relu2): ReLU(inplace=True)\n",
       "            (conv2): Conv2d(128, 32, kernel_size=(3, 3), stride=(1, 1), padding=(1, 1), bias=False)\n",
       "          )\n",
       "          (denselayer5): _DenseLayer(\n",
       "            (norm1): BatchNorm2d(192, eps=1e-05, momentum=0.1, affine=True, track_running_stats=True)\n",
       "            (relu1): ReLU(inplace=True)\n",
       "            (conv1): Conv2d(192, 128, kernel_size=(1, 1), stride=(1, 1), bias=False)\n",
       "            (norm2): BatchNorm2d(128, eps=1e-05, momentum=0.1, affine=True, track_running_stats=True)\n",
       "            (relu2): ReLU(inplace=True)\n",
       "            (conv2): Conv2d(128, 32, kernel_size=(3, 3), stride=(1, 1), padding=(1, 1), bias=False)\n",
       "          )\n",
       "          (denselayer6): _DenseLayer(\n",
       "            (norm1): BatchNorm2d(224, eps=1e-05, momentum=0.1, affine=True, track_running_stats=True)\n",
       "            (relu1): ReLU(inplace=True)\n",
       "            (conv1): Conv2d(224, 128, kernel_size=(1, 1), stride=(1, 1), bias=False)\n",
       "            (norm2): BatchNorm2d(128, eps=1e-05, momentum=0.1, affine=True, track_running_stats=True)\n",
       "            (relu2): ReLU(inplace=True)\n",
       "            (conv2): Conv2d(128, 32, kernel_size=(3, 3), stride=(1, 1), padding=(1, 1), bias=False)\n",
       "          )\n",
       "        )\n",
       "        (transition1): _Transition(\n",
       "          (norm): BatchNorm2d(256, eps=1e-05, momentum=0.1, affine=True, track_running_stats=True)\n",
       "          (relu): ReLU(inplace=True)\n",
       "          (conv): Conv2d(256, 128, kernel_size=(1, 1), stride=(1, 1), bias=False)\n",
       "          (pool): AvgPool2d(kernel_size=2, stride=2, padding=0)\n",
       "        )\n",
       "        (denseblock2): _DenseBlock(\n",
       "          (denselayer1): _DenseLayer(\n",
       "            (norm1): BatchNorm2d(128, eps=1e-05, momentum=0.1, affine=True, track_running_stats=True)\n",
       "            (relu1): ReLU(inplace=True)\n",
       "            (conv1): Conv2d(128, 128, kernel_size=(1, 1), stride=(1, 1), bias=False)\n",
       "            (norm2): BatchNorm2d(128, eps=1e-05, momentum=0.1, affine=True, track_running_stats=True)\n",
       "            (relu2): ReLU(inplace=True)\n",
       "            (conv2): Conv2d(128, 32, kernel_size=(3, 3), stride=(1, 1), padding=(1, 1), bias=False)\n",
       "          )\n",
       "          (denselayer2): _DenseLayer(\n",
       "            (norm1): BatchNorm2d(160, eps=1e-05, momentum=0.1, affine=True, track_running_stats=True)\n",
       "            (relu1): ReLU(inplace=True)\n",
       "            (conv1): Conv2d(160, 128, kernel_size=(1, 1), stride=(1, 1), bias=False)\n",
       "            (norm2): BatchNorm2d(128, eps=1e-05, momentum=0.1, affine=True, track_running_stats=True)\n",
       "            (relu2): ReLU(inplace=True)\n",
       "            (conv2): Conv2d(128, 32, kernel_size=(3, 3), stride=(1, 1), padding=(1, 1), bias=False)\n",
       "          )\n",
       "          (denselayer3): _DenseLayer(\n",
       "            (norm1): BatchNorm2d(192, eps=1e-05, momentum=0.1, affine=True, track_running_stats=True)\n",
       "            (relu1): ReLU(inplace=True)\n",
       "            (conv1): Conv2d(192, 128, kernel_size=(1, 1), stride=(1, 1), bias=False)\n",
       "            (norm2): BatchNorm2d(128, eps=1e-05, momentum=0.1, affine=True, track_running_stats=True)\n",
       "            (relu2): ReLU(inplace=True)\n",
       "            (conv2): Conv2d(128, 32, kernel_size=(3, 3), stride=(1, 1), padding=(1, 1), bias=False)\n",
       "          )\n",
       "          (denselayer4): _DenseLayer(\n",
       "            (norm1): BatchNorm2d(224, eps=1e-05, momentum=0.1, affine=True, track_running_stats=True)\n",
       "            (relu1): ReLU(inplace=True)\n",
       "            (conv1): Conv2d(224, 128, kernel_size=(1, 1), stride=(1, 1), bias=False)\n",
       "            (norm2): BatchNorm2d(128, eps=1e-05, momentum=0.1, affine=True, track_running_stats=True)\n",
       "            (relu2): ReLU(inplace=True)\n",
       "            (conv2): Conv2d(128, 32, kernel_size=(3, 3), stride=(1, 1), padding=(1, 1), bias=False)\n",
       "          )\n",
       "          (denselayer5): _DenseLayer(\n",
       "            (norm1): BatchNorm2d(256, eps=1e-05, momentum=0.1, affine=True, track_running_stats=True)\n",
       "            (relu1): ReLU(inplace=True)\n",
       "            (conv1): Conv2d(256, 128, kernel_size=(1, 1), stride=(1, 1), bias=False)\n",
       "            (norm2): BatchNorm2d(128, eps=1e-05, momentum=0.1, affine=True, track_running_stats=True)\n",
       "            (relu2): ReLU(inplace=True)\n",
       "            (conv2): Conv2d(128, 32, kernel_size=(3, 3), stride=(1, 1), padding=(1, 1), bias=False)\n",
       "          )\n",
       "          (denselayer6): _DenseLayer(\n",
       "            (norm1): BatchNorm2d(288, eps=1e-05, momentum=0.1, affine=True, track_running_stats=True)\n",
       "            (relu1): ReLU(inplace=True)\n",
       "            (conv1): Conv2d(288, 128, kernel_size=(1, 1), stride=(1, 1), bias=False)\n",
       "            (norm2): BatchNorm2d(128, eps=1e-05, momentum=0.1, affine=True, track_running_stats=True)\n",
       "            (relu2): ReLU(inplace=True)\n",
       "            (conv2): Conv2d(128, 32, kernel_size=(3, 3), stride=(1, 1), padding=(1, 1), bias=False)\n",
       "          )\n",
       "          (denselayer7): _DenseLayer(\n",
       "            (norm1): BatchNorm2d(320, eps=1e-05, momentum=0.1, affine=True, track_running_stats=True)\n",
       "            (relu1): ReLU(inplace=True)\n",
       "            (conv1): Conv2d(320, 128, kernel_size=(1, 1), stride=(1, 1), bias=False)\n",
       "            (norm2): BatchNorm2d(128, eps=1e-05, momentum=0.1, affine=True, track_running_stats=True)\n",
       "            (relu2): ReLU(inplace=True)\n",
       "            (conv2): Conv2d(128, 32, kernel_size=(3, 3), stride=(1, 1), padding=(1, 1), bias=False)\n",
       "          )\n",
       "          (denselayer8): _DenseLayer(\n",
       "            (norm1): BatchNorm2d(352, eps=1e-05, momentum=0.1, affine=True, track_running_stats=True)\n",
       "            (relu1): ReLU(inplace=True)\n",
       "            (conv1): Conv2d(352, 128, kernel_size=(1, 1), stride=(1, 1), bias=False)\n",
       "            (norm2): BatchNorm2d(128, eps=1e-05, momentum=0.1, affine=True, track_running_stats=True)\n",
       "            (relu2): ReLU(inplace=True)\n",
       "            (conv2): Conv2d(128, 32, kernel_size=(3, 3), stride=(1, 1), padding=(1, 1), bias=False)\n",
       "          )\n",
       "          (denselayer9): _DenseLayer(\n",
       "            (norm1): BatchNorm2d(384, eps=1e-05, momentum=0.1, affine=True, track_running_stats=True)\n",
       "            (relu1): ReLU(inplace=True)\n",
       "            (conv1): Conv2d(384, 128, kernel_size=(1, 1), stride=(1, 1), bias=False)\n",
       "            (norm2): BatchNorm2d(128, eps=1e-05, momentum=0.1, affine=True, track_running_stats=True)\n",
       "            (relu2): ReLU(inplace=True)\n",
       "            (conv2): Conv2d(128, 32, kernel_size=(3, 3), stride=(1, 1), padding=(1, 1), bias=False)\n",
       "          )\n",
       "          (denselayer10): _DenseLayer(\n",
       "            (norm1): BatchNorm2d(416, eps=1e-05, momentum=0.1, affine=True, track_running_stats=True)\n",
       "            (relu1): ReLU(inplace=True)\n",
       "            (conv1): Conv2d(416, 128, kernel_size=(1, 1), stride=(1, 1), bias=False)\n",
       "            (norm2): BatchNorm2d(128, eps=1e-05, momentum=0.1, affine=True, track_running_stats=True)\n",
       "            (relu2): ReLU(inplace=True)\n",
       "            (conv2): Conv2d(128, 32, kernel_size=(3, 3), stride=(1, 1), padding=(1, 1), bias=False)\n",
       "          )\n",
       "          (denselayer11): _DenseLayer(\n",
       "            (norm1): BatchNorm2d(448, eps=1e-05, momentum=0.1, affine=True, track_running_stats=True)\n",
       "            (relu1): ReLU(inplace=True)\n",
       "            (conv1): Conv2d(448, 128, kernel_size=(1, 1), stride=(1, 1), bias=False)\n",
       "            (norm2): BatchNorm2d(128, eps=1e-05, momentum=0.1, affine=True, track_running_stats=True)\n",
       "            (relu2): ReLU(inplace=True)\n",
       "            (conv2): Conv2d(128, 32, kernel_size=(3, 3), stride=(1, 1), padding=(1, 1), bias=False)\n",
       "          )\n",
       "          (denselayer12): _DenseLayer(\n",
       "            (norm1): BatchNorm2d(480, eps=1e-05, momentum=0.1, affine=True, track_running_stats=True)\n",
       "            (relu1): ReLU(inplace=True)\n",
       "            (conv1): Conv2d(480, 128, kernel_size=(1, 1), stride=(1, 1), bias=False)\n",
       "            (norm2): BatchNorm2d(128, eps=1e-05, momentum=0.1, affine=True, track_running_stats=True)\n",
       "            (relu2): ReLU(inplace=True)\n",
       "            (conv2): Conv2d(128, 32, kernel_size=(3, 3), stride=(1, 1), padding=(1, 1), bias=False)\n",
       "          )\n",
       "        )\n",
       "        (transition2): _Transition(\n",
       "          (norm): BatchNorm2d(512, eps=1e-05, momentum=0.1, affine=True, track_running_stats=True)\n",
       "          (relu): ReLU(inplace=True)\n",
       "          (conv): Conv2d(512, 256, kernel_size=(1, 1), stride=(1, 1), bias=False)\n",
       "          (pool): AvgPool2d(kernel_size=2, stride=2, padding=0)\n",
       "        )\n",
       "        (denseblock3): _DenseBlock(\n",
       "          (denselayer1): _DenseLayer(\n",
       "            (norm1): BatchNorm2d(256, eps=1e-05, momentum=0.1, affine=True, track_running_stats=True)\n",
       "            (relu1): ReLU(inplace=True)\n",
       "            (conv1): Conv2d(256, 128, kernel_size=(1, 1), stride=(1, 1), bias=False)\n",
       "            (norm2): BatchNorm2d(128, eps=1e-05, momentum=0.1, affine=True, track_running_stats=True)\n",
       "            (relu2): ReLU(inplace=True)\n",
       "            (conv2): Conv2d(128, 32, kernel_size=(3, 3), stride=(1, 1), padding=(1, 1), bias=False)\n",
       "          )\n",
       "          (denselayer2): _DenseLayer(\n",
       "            (norm1): BatchNorm2d(288, eps=1e-05, momentum=0.1, affine=True, track_running_stats=True)\n",
       "            (relu1): ReLU(inplace=True)\n",
       "            (conv1): Conv2d(288, 128, kernel_size=(1, 1), stride=(1, 1), bias=False)\n",
       "            (norm2): BatchNorm2d(128, eps=1e-05, momentum=0.1, affine=True, track_running_stats=True)\n",
       "            (relu2): ReLU(inplace=True)\n",
       "            (conv2): Conv2d(128, 32, kernel_size=(3, 3), stride=(1, 1), padding=(1, 1), bias=False)\n",
       "          )\n",
       "          (denselayer3): _DenseLayer(\n",
       "            (norm1): BatchNorm2d(320, eps=1e-05, momentum=0.1, affine=True, track_running_stats=True)\n",
       "            (relu1): ReLU(inplace=True)\n",
       "            (conv1): Conv2d(320, 128, kernel_size=(1, 1), stride=(1, 1), bias=False)\n",
       "            (norm2): BatchNorm2d(128, eps=1e-05, momentum=0.1, affine=True, track_running_stats=True)\n",
       "            (relu2): ReLU(inplace=True)\n",
       "            (conv2): Conv2d(128, 32, kernel_size=(3, 3), stride=(1, 1), padding=(1, 1), bias=False)\n",
       "          )\n",
       "          (denselayer4): _DenseLayer(\n",
       "            (norm1): BatchNorm2d(352, eps=1e-05, momentum=0.1, affine=True, track_running_stats=True)\n",
       "            (relu1): ReLU(inplace=True)\n",
       "            (conv1): Conv2d(352, 128, kernel_size=(1, 1), stride=(1, 1), bias=False)\n",
       "            (norm2): BatchNorm2d(128, eps=1e-05, momentum=0.1, affine=True, track_running_stats=True)\n",
       "            (relu2): ReLU(inplace=True)\n",
       "            (conv2): Conv2d(128, 32, kernel_size=(3, 3), stride=(1, 1), padding=(1, 1), bias=False)\n",
       "          )\n",
       "          (denselayer5): _DenseLayer(\n",
       "            (norm1): BatchNorm2d(384, eps=1e-05, momentum=0.1, affine=True, track_running_stats=True)\n",
       "            (relu1): ReLU(inplace=True)\n",
       "            (conv1): Conv2d(384, 128, kernel_size=(1, 1), stride=(1, 1), bias=False)\n",
       "            (norm2): BatchNorm2d(128, eps=1e-05, momentum=0.1, affine=True, track_running_stats=True)\n",
       "            (relu2): ReLU(inplace=True)\n",
       "            (conv2): Conv2d(128, 32, kernel_size=(3, 3), stride=(1, 1), padding=(1, 1), bias=False)\n",
       "          )\n",
       "          (denselayer6): _DenseLayer(\n",
       "            (norm1): BatchNorm2d(416, eps=1e-05, momentum=0.1, affine=True, track_running_stats=True)\n",
       "            (relu1): ReLU(inplace=True)\n",
       "            (conv1): Conv2d(416, 128, kernel_size=(1, 1), stride=(1, 1), bias=False)\n",
       "            (norm2): BatchNorm2d(128, eps=1e-05, momentum=0.1, affine=True, track_running_stats=True)\n",
       "            (relu2): ReLU(inplace=True)\n",
       "            (conv2): Conv2d(128, 32, kernel_size=(3, 3), stride=(1, 1), padding=(1, 1), bias=False)\n",
       "          )\n",
       "          (denselayer7): _DenseLayer(\n",
       "            (norm1): BatchNorm2d(448, eps=1e-05, momentum=0.1, affine=True, track_running_stats=True)\n",
       "            (relu1): ReLU(inplace=True)\n",
       "            (conv1): Conv2d(448, 128, kernel_size=(1, 1), stride=(1, 1), bias=False)\n",
       "            (norm2): BatchNorm2d(128, eps=1e-05, momentum=0.1, affine=True, track_running_stats=True)\n",
       "            (relu2): ReLU(inplace=True)\n",
       "            (conv2): Conv2d(128, 32, kernel_size=(3, 3), stride=(1, 1), padding=(1, 1), bias=False)\n",
       "          )\n",
       "          (denselayer8): _DenseLayer(\n",
       "            (norm1): BatchNorm2d(480, eps=1e-05, momentum=0.1, affine=True, track_running_stats=True)\n",
       "            (relu1): ReLU(inplace=True)\n",
       "            (conv1): Conv2d(480, 128, kernel_size=(1, 1), stride=(1, 1), bias=False)\n",
       "            (norm2): BatchNorm2d(128, eps=1e-05, momentum=0.1, affine=True, track_running_stats=True)\n",
       "            (relu2): ReLU(inplace=True)\n",
       "            (conv2): Conv2d(128, 32, kernel_size=(3, 3), stride=(1, 1), padding=(1, 1), bias=False)\n",
       "          )\n",
       "          (denselayer9): _DenseLayer(\n",
       "            (norm1): BatchNorm2d(512, eps=1e-05, momentum=0.1, affine=True, track_running_stats=True)\n",
       "            (relu1): ReLU(inplace=True)\n",
       "            (conv1): Conv2d(512, 128, kernel_size=(1, 1), stride=(1, 1), bias=False)\n",
       "            (norm2): BatchNorm2d(128, eps=1e-05, momentum=0.1, affine=True, track_running_stats=True)\n",
       "            (relu2): ReLU(inplace=True)\n",
       "            (conv2): Conv2d(128, 32, kernel_size=(3, 3), stride=(1, 1), padding=(1, 1), bias=False)\n",
       "          )\n",
       "          (denselayer10): _DenseLayer(\n",
       "            (norm1): BatchNorm2d(544, eps=1e-05, momentum=0.1, affine=True, track_running_stats=True)\n",
       "            (relu1): ReLU(inplace=True)\n",
       "            (conv1): Conv2d(544, 128, kernel_size=(1, 1), stride=(1, 1), bias=False)\n",
       "            (norm2): BatchNorm2d(128, eps=1e-05, momentum=0.1, affine=True, track_running_stats=True)\n",
       "            (relu2): ReLU(inplace=True)\n",
       "            (conv2): Conv2d(128, 32, kernel_size=(3, 3), stride=(1, 1), padding=(1, 1), bias=False)\n",
       "          )\n",
       "          (denselayer11): _DenseLayer(\n",
       "            (norm1): BatchNorm2d(576, eps=1e-05, momentum=0.1, affine=True, track_running_stats=True)\n",
       "            (relu1): ReLU(inplace=True)\n",
       "            (conv1): Conv2d(576, 128, kernel_size=(1, 1), stride=(1, 1), bias=False)\n",
       "            (norm2): BatchNorm2d(128, eps=1e-05, momentum=0.1, affine=True, track_running_stats=True)\n",
       "            (relu2): ReLU(inplace=True)\n",
       "            (conv2): Conv2d(128, 32, kernel_size=(3, 3), stride=(1, 1), padding=(1, 1), bias=False)\n",
       "          )\n",
       "          (denselayer12): _DenseLayer(\n",
       "            (norm1): BatchNorm2d(608, eps=1e-05, momentum=0.1, affine=True, track_running_stats=True)\n",
       "            (relu1): ReLU(inplace=True)\n",
       "            (conv1): Conv2d(608, 128, kernel_size=(1, 1), stride=(1, 1), bias=False)\n",
       "            (norm2): BatchNorm2d(128, eps=1e-05, momentum=0.1, affine=True, track_running_stats=True)\n",
       "            (relu2): ReLU(inplace=True)\n",
       "            (conv2): Conv2d(128, 32, kernel_size=(3, 3), stride=(1, 1), padding=(1, 1), bias=False)\n",
       "          )\n",
       "          (denselayer13): _DenseLayer(\n",
       "            (norm1): BatchNorm2d(640, eps=1e-05, momentum=0.1, affine=True, track_running_stats=True)\n",
       "            (relu1): ReLU(inplace=True)\n",
       "            (conv1): Conv2d(640, 128, kernel_size=(1, 1), stride=(1, 1), bias=False)\n",
       "            (norm2): BatchNorm2d(128, eps=1e-05, momentum=0.1, affine=True, track_running_stats=True)\n",
       "            (relu2): ReLU(inplace=True)\n",
       "            (conv2): Conv2d(128, 32, kernel_size=(3, 3), stride=(1, 1), padding=(1, 1), bias=False)\n",
       "          )\n",
       "          (denselayer14): _DenseLayer(\n",
       "            (norm1): BatchNorm2d(672, eps=1e-05, momentum=0.1, affine=True, track_running_stats=True)\n",
       "            (relu1): ReLU(inplace=True)\n",
       "            (conv1): Conv2d(672, 128, kernel_size=(1, 1), stride=(1, 1), bias=False)\n",
       "            (norm2): BatchNorm2d(128, eps=1e-05, momentum=0.1, affine=True, track_running_stats=True)\n",
       "            (relu2): ReLU(inplace=True)\n",
       "            (conv2): Conv2d(128, 32, kernel_size=(3, 3), stride=(1, 1), padding=(1, 1), bias=False)\n",
       "          )\n",
       "          (denselayer15): _DenseLayer(\n",
       "            (norm1): BatchNorm2d(704, eps=1e-05, momentum=0.1, affine=True, track_running_stats=True)\n",
       "            (relu1): ReLU(inplace=True)\n",
       "            (conv1): Conv2d(704, 128, kernel_size=(1, 1), stride=(1, 1), bias=False)\n",
       "            (norm2): BatchNorm2d(128, eps=1e-05, momentum=0.1, affine=True, track_running_stats=True)\n",
       "            (relu2): ReLU(inplace=True)\n",
       "            (conv2): Conv2d(128, 32, kernel_size=(3, 3), stride=(1, 1), padding=(1, 1), bias=False)\n",
       "          )\n",
       "          (denselayer16): _DenseLayer(\n",
       "            (norm1): BatchNorm2d(736, eps=1e-05, momentum=0.1, affine=True, track_running_stats=True)\n",
       "            (relu1): ReLU(inplace=True)\n",
       "            (conv1): Conv2d(736, 128, kernel_size=(1, 1), stride=(1, 1), bias=False)\n",
       "            (norm2): BatchNorm2d(128, eps=1e-05, momentum=0.1, affine=True, track_running_stats=True)\n",
       "            (relu2): ReLU(inplace=True)\n",
       "            (conv2): Conv2d(128, 32, kernel_size=(3, 3), stride=(1, 1), padding=(1, 1), bias=False)\n",
       "          )\n",
       "          (denselayer17): _DenseLayer(\n",
       "            (norm1): BatchNorm2d(768, eps=1e-05, momentum=0.1, affine=True, track_running_stats=True)\n",
       "            (relu1): ReLU(inplace=True)\n",
       "            (conv1): Conv2d(768, 128, kernel_size=(1, 1), stride=(1, 1), bias=False)\n",
       "            (norm2): BatchNorm2d(128, eps=1e-05, momentum=0.1, affine=True, track_running_stats=True)\n",
       "            (relu2): ReLU(inplace=True)\n",
       "            (conv2): Conv2d(128, 32, kernel_size=(3, 3), stride=(1, 1), padding=(1, 1), bias=False)\n",
       "          )\n",
       "          (denselayer18): _DenseLayer(\n",
       "            (norm1): BatchNorm2d(800, eps=1e-05, momentum=0.1, affine=True, track_running_stats=True)\n",
       "            (relu1): ReLU(inplace=True)\n",
       "            (conv1): Conv2d(800, 128, kernel_size=(1, 1), stride=(1, 1), bias=False)\n",
       "            (norm2): BatchNorm2d(128, eps=1e-05, momentum=0.1, affine=True, track_running_stats=True)\n",
       "            (relu2): ReLU(inplace=True)\n",
       "            (conv2): Conv2d(128, 32, kernel_size=(3, 3), stride=(1, 1), padding=(1, 1), bias=False)\n",
       "          )\n",
       "          (denselayer19): _DenseLayer(\n",
       "            (norm1): BatchNorm2d(832, eps=1e-05, momentum=0.1, affine=True, track_running_stats=True)\n",
       "            (relu1): ReLU(inplace=True)\n",
       "            (conv1): Conv2d(832, 128, kernel_size=(1, 1), stride=(1, 1), bias=False)\n",
       "            (norm2): BatchNorm2d(128, eps=1e-05, momentum=0.1, affine=True, track_running_stats=True)\n",
       "            (relu2): ReLU(inplace=True)\n",
       "            (conv2): Conv2d(128, 32, kernel_size=(3, 3), stride=(1, 1), padding=(1, 1), bias=False)\n",
       "          )\n",
       "          (denselayer20): _DenseLayer(\n",
       "            (norm1): BatchNorm2d(864, eps=1e-05, momentum=0.1, affine=True, track_running_stats=True)\n",
       "            (relu1): ReLU(inplace=True)\n",
       "            (conv1): Conv2d(864, 128, kernel_size=(1, 1), stride=(1, 1), bias=False)\n",
       "            (norm2): BatchNorm2d(128, eps=1e-05, momentum=0.1, affine=True, track_running_stats=True)\n",
       "            (relu2): ReLU(inplace=True)\n",
       "            (conv2): Conv2d(128, 32, kernel_size=(3, 3), stride=(1, 1), padding=(1, 1), bias=False)\n",
       "          )\n",
       "          (denselayer21): _DenseLayer(\n",
       "            (norm1): BatchNorm2d(896, eps=1e-05, momentum=0.1, affine=True, track_running_stats=True)\n",
       "            (relu1): ReLU(inplace=True)\n",
       "            (conv1): Conv2d(896, 128, kernel_size=(1, 1), stride=(1, 1), bias=False)\n",
       "            (norm2): BatchNorm2d(128, eps=1e-05, momentum=0.1, affine=True, track_running_stats=True)\n",
       "            (relu2): ReLU(inplace=True)\n",
       "            (conv2): Conv2d(128, 32, kernel_size=(3, 3), stride=(1, 1), padding=(1, 1), bias=False)\n",
       "          )\n",
       "          (denselayer22): _DenseLayer(\n",
       "            (norm1): BatchNorm2d(928, eps=1e-05, momentum=0.1, affine=True, track_running_stats=True)\n",
       "            (relu1): ReLU(inplace=True)\n",
       "            (conv1): Conv2d(928, 128, kernel_size=(1, 1), stride=(1, 1), bias=False)\n",
       "            (norm2): BatchNorm2d(128, eps=1e-05, momentum=0.1, affine=True, track_running_stats=True)\n",
       "            (relu2): ReLU(inplace=True)\n",
       "            (conv2): Conv2d(128, 32, kernel_size=(3, 3), stride=(1, 1), padding=(1, 1), bias=False)\n",
       "          )\n",
       "          (denselayer23): _DenseLayer(\n",
       "            (norm1): BatchNorm2d(960, eps=1e-05, momentum=0.1, affine=True, track_running_stats=True)\n",
       "            (relu1): ReLU(inplace=True)\n",
       "            (conv1): Conv2d(960, 128, kernel_size=(1, 1), stride=(1, 1), bias=False)\n",
       "            (norm2): BatchNorm2d(128, eps=1e-05, momentum=0.1, affine=True, track_running_stats=True)\n",
       "            (relu2): ReLU(inplace=True)\n",
       "            (conv2): Conv2d(128, 32, kernel_size=(3, 3), stride=(1, 1), padding=(1, 1), bias=False)\n",
       "          )\n",
       "          (denselayer24): _DenseLayer(\n",
       "            (norm1): BatchNorm2d(992, eps=1e-05, momentum=0.1, affine=True, track_running_stats=True)\n",
       "            (relu1): ReLU(inplace=True)\n",
       "            (conv1): Conv2d(992, 128, kernel_size=(1, 1), stride=(1, 1), bias=False)\n",
       "            (norm2): BatchNorm2d(128, eps=1e-05, momentum=0.1, affine=True, track_running_stats=True)\n",
       "            (relu2): ReLU(inplace=True)\n",
       "            (conv2): Conv2d(128, 32, kernel_size=(3, 3), stride=(1, 1), padding=(1, 1), bias=False)\n",
       "          )\n",
       "          (denselayer25): _DenseLayer(\n",
       "            (norm1): BatchNorm2d(1024, eps=1e-05, momentum=0.1, affine=True, track_running_stats=True)\n",
       "            (relu1): ReLU(inplace=True)\n",
       "            (conv1): Conv2d(1024, 128, kernel_size=(1, 1), stride=(1, 1), bias=False)\n",
       "            (norm2): BatchNorm2d(128, eps=1e-05, momentum=0.1, affine=True, track_running_stats=True)\n",
       "            (relu2): ReLU(inplace=True)\n",
       "            (conv2): Conv2d(128, 32, kernel_size=(3, 3), stride=(1, 1), padding=(1, 1), bias=False)\n",
       "          )\n",
       "          (denselayer26): _DenseLayer(\n",
       "            (norm1): BatchNorm2d(1056, eps=1e-05, momentum=0.1, affine=True, track_running_stats=True)\n",
       "            (relu1): ReLU(inplace=True)\n",
       "            (conv1): Conv2d(1056, 128, kernel_size=(1, 1), stride=(1, 1), bias=False)\n",
       "            (norm2): BatchNorm2d(128, eps=1e-05, momentum=0.1, affine=True, track_running_stats=True)\n",
       "            (relu2): ReLU(inplace=True)\n",
       "            (conv2): Conv2d(128, 32, kernel_size=(3, 3), stride=(1, 1), padding=(1, 1), bias=False)\n",
       "          )\n",
       "          (denselayer27): _DenseLayer(\n",
       "            (norm1): BatchNorm2d(1088, eps=1e-05, momentum=0.1, affine=True, track_running_stats=True)\n",
       "            (relu1): ReLU(inplace=True)\n",
       "            (conv1): Conv2d(1088, 128, kernel_size=(1, 1), stride=(1, 1), bias=False)\n",
       "            (norm2): BatchNorm2d(128, eps=1e-05, momentum=0.1, affine=True, track_running_stats=True)\n",
       "            (relu2): ReLU(inplace=True)\n",
       "            (conv2): Conv2d(128, 32, kernel_size=(3, 3), stride=(1, 1), padding=(1, 1), bias=False)\n",
       "          )\n",
       "          (denselayer28): _DenseLayer(\n",
       "            (norm1): BatchNorm2d(1120, eps=1e-05, momentum=0.1, affine=True, track_running_stats=True)\n",
       "            (relu1): ReLU(inplace=True)\n",
       "            (conv1): Conv2d(1120, 128, kernel_size=(1, 1), stride=(1, 1), bias=False)\n",
       "            (norm2): BatchNorm2d(128, eps=1e-05, momentum=0.1, affine=True, track_running_stats=True)\n",
       "            (relu2): ReLU(inplace=True)\n",
       "            (conv2): Conv2d(128, 32, kernel_size=(3, 3), stride=(1, 1), padding=(1, 1), bias=False)\n",
       "          )\n",
       "          (denselayer29): _DenseLayer(\n",
       "            (norm1): BatchNorm2d(1152, eps=1e-05, momentum=0.1, affine=True, track_running_stats=True)\n",
       "            (relu1): ReLU(inplace=True)\n",
       "            (conv1): Conv2d(1152, 128, kernel_size=(1, 1), stride=(1, 1), bias=False)\n",
       "            (norm2): BatchNorm2d(128, eps=1e-05, momentum=0.1, affine=True, track_running_stats=True)\n",
       "            (relu2): ReLU(inplace=True)\n",
       "            (conv2): Conv2d(128, 32, kernel_size=(3, 3), stride=(1, 1), padding=(1, 1), bias=False)\n",
       "          )\n",
       "          (denselayer30): _DenseLayer(\n",
       "            (norm1): BatchNorm2d(1184, eps=1e-05, momentum=0.1, affine=True, track_running_stats=True)\n",
       "            (relu1): ReLU(inplace=True)\n",
       "            (conv1): Conv2d(1184, 128, kernel_size=(1, 1), stride=(1, 1), bias=False)\n",
       "            (norm2): BatchNorm2d(128, eps=1e-05, momentum=0.1, affine=True, track_running_stats=True)\n",
       "            (relu2): ReLU(inplace=True)\n",
       "            (conv2): Conv2d(128, 32, kernel_size=(3, 3), stride=(1, 1), padding=(1, 1), bias=False)\n",
       "          )\n",
       "          (denselayer31): _DenseLayer(\n",
       "            (norm1): BatchNorm2d(1216, eps=1e-05, momentum=0.1, affine=True, track_running_stats=True)\n",
       "            (relu1): ReLU(inplace=True)\n",
       "            (conv1): Conv2d(1216, 128, kernel_size=(1, 1), stride=(1, 1), bias=False)\n",
       "            (norm2): BatchNorm2d(128, eps=1e-05, momentum=0.1, affine=True, track_running_stats=True)\n",
       "            (relu2): ReLU(inplace=True)\n",
       "            (conv2): Conv2d(128, 32, kernel_size=(3, 3), stride=(1, 1), padding=(1, 1), bias=False)\n",
       "          )\n",
       "          (denselayer32): _DenseLayer(\n",
       "            (norm1): BatchNorm2d(1248, eps=1e-05, momentum=0.1, affine=True, track_running_stats=True)\n",
       "            (relu1): ReLU(inplace=True)\n",
       "            (conv1): Conv2d(1248, 128, kernel_size=(1, 1), stride=(1, 1), bias=False)\n",
       "            (norm2): BatchNorm2d(128, eps=1e-05, momentum=0.1, affine=True, track_running_stats=True)\n",
       "            (relu2): ReLU(inplace=True)\n",
       "            (conv2): Conv2d(128, 32, kernel_size=(3, 3), stride=(1, 1), padding=(1, 1), bias=False)\n",
       "          )\n",
       "        )\n",
       "        (transition3): _Transition(\n",
       "          (norm): BatchNorm2d(1280, eps=1e-05, momentum=0.1, affine=True, track_running_stats=True)\n",
       "          (relu): ReLU(inplace=True)\n",
       "          (conv): Conv2d(1280, 640, kernel_size=(1, 1), stride=(1, 1), bias=False)\n",
       "          (pool): AvgPool2d(kernel_size=2, stride=2, padding=0)\n",
       "        )\n",
       "        (denseblock4): _DenseBlock(\n",
       "          (denselayer1): _DenseLayer(\n",
       "            (norm1): BatchNorm2d(640, eps=1e-05, momentum=0.1, affine=True, track_running_stats=True)\n",
       "            (relu1): ReLU(inplace=True)\n",
       "            (conv1): Conv2d(640, 128, kernel_size=(1, 1), stride=(1, 1), bias=False)\n",
       "            (norm2): BatchNorm2d(128, eps=1e-05, momentum=0.1, affine=True, track_running_stats=True)\n",
       "            (relu2): ReLU(inplace=True)\n",
       "            (conv2): Conv2d(128, 32, kernel_size=(3, 3), stride=(1, 1), padding=(1, 1), bias=False)\n",
       "          )\n",
       "          (denselayer2): _DenseLayer(\n",
       "            (norm1): BatchNorm2d(672, eps=1e-05, momentum=0.1, affine=True, track_running_stats=True)\n",
       "            (relu1): ReLU(inplace=True)\n",
       "            (conv1): Conv2d(672, 128, kernel_size=(1, 1), stride=(1, 1), bias=False)\n",
       "            (norm2): BatchNorm2d(128, eps=1e-05, momentum=0.1, affine=True, track_running_stats=True)\n",
       "            (relu2): ReLU(inplace=True)\n",
       "            (conv2): Conv2d(128, 32, kernel_size=(3, 3), stride=(1, 1), padding=(1, 1), bias=False)\n",
       "          )\n",
       "          (denselayer3): _DenseLayer(\n",
       "            (norm1): BatchNorm2d(704, eps=1e-05, momentum=0.1, affine=True, track_running_stats=True)\n",
       "            (relu1): ReLU(inplace=True)\n",
       "            (conv1): Conv2d(704, 128, kernel_size=(1, 1), stride=(1, 1), bias=False)\n",
       "            (norm2): BatchNorm2d(128, eps=1e-05, momentum=0.1, affine=True, track_running_stats=True)\n",
       "            (relu2): ReLU(inplace=True)\n",
       "            (conv2): Conv2d(128, 32, kernel_size=(3, 3), stride=(1, 1), padding=(1, 1), bias=False)\n",
       "          )\n",
       "          (denselayer4): _DenseLayer(\n",
       "            (norm1): BatchNorm2d(736, eps=1e-05, momentum=0.1, affine=True, track_running_stats=True)\n",
       "            (relu1): ReLU(inplace=True)\n",
       "            (conv1): Conv2d(736, 128, kernel_size=(1, 1), stride=(1, 1), bias=False)\n",
       "            (norm2): BatchNorm2d(128, eps=1e-05, momentum=0.1, affine=True, track_running_stats=True)\n",
       "            (relu2): ReLU(inplace=True)\n",
       "            (conv2): Conv2d(128, 32, kernel_size=(3, 3), stride=(1, 1), padding=(1, 1), bias=False)\n",
       "          )\n",
       "          (denselayer5): _DenseLayer(\n",
       "            (norm1): BatchNorm2d(768, eps=1e-05, momentum=0.1, affine=True, track_running_stats=True)\n",
       "            (relu1): ReLU(inplace=True)\n",
       "            (conv1): Conv2d(768, 128, kernel_size=(1, 1), stride=(1, 1), bias=False)\n",
       "            (norm2): BatchNorm2d(128, eps=1e-05, momentum=0.1, affine=True, track_running_stats=True)\n",
       "            (relu2): ReLU(inplace=True)\n",
       "            (conv2): Conv2d(128, 32, kernel_size=(3, 3), stride=(1, 1), padding=(1, 1), bias=False)\n",
       "          )\n",
       "          (denselayer6): _DenseLayer(\n",
       "            (norm1): BatchNorm2d(800, eps=1e-05, momentum=0.1, affine=True, track_running_stats=True)\n",
       "            (relu1): ReLU(inplace=True)\n",
       "            (conv1): Conv2d(800, 128, kernel_size=(1, 1), stride=(1, 1), bias=False)\n",
       "            (norm2): BatchNorm2d(128, eps=1e-05, momentum=0.1, affine=True, track_running_stats=True)\n",
       "            (relu2): ReLU(inplace=True)\n",
       "            (conv2): Conv2d(128, 32, kernel_size=(3, 3), stride=(1, 1), padding=(1, 1), bias=False)\n",
       "          )\n",
       "          (denselayer7): _DenseLayer(\n",
       "            (norm1): BatchNorm2d(832, eps=1e-05, momentum=0.1, affine=True, track_running_stats=True)\n",
       "            (relu1): ReLU(inplace=True)\n",
       "            (conv1): Conv2d(832, 128, kernel_size=(1, 1), stride=(1, 1), bias=False)\n",
       "            (norm2): BatchNorm2d(128, eps=1e-05, momentum=0.1, affine=True, track_running_stats=True)\n",
       "            (relu2): ReLU(inplace=True)\n",
       "            (conv2): Conv2d(128, 32, kernel_size=(3, 3), stride=(1, 1), padding=(1, 1), bias=False)\n",
       "          )\n",
       "          (denselayer8): _DenseLayer(\n",
       "            (norm1): BatchNorm2d(864, eps=1e-05, momentum=0.1, affine=True, track_running_stats=True)\n",
       "            (relu1): ReLU(inplace=True)\n",
       "            (conv1): Conv2d(864, 128, kernel_size=(1, 1), stride=(1, 1), bias=False)\n",
       "            (norm2): BatchNorm2d(128, eps=1e-05, momentum=0.1, affine=True, track_running_stats=True)\n",
       "            (relu2): ReLU(inplace=True)\n",
       "            (conv2): Conv2d(128, 32, kernel_size=(3, 3), stride=(1, 1), padding=(1, 1), bias=False)\n",
       "          )\n",
       "          (denselayer9): _DenseLayer(\n",
       "            (norm1): BatchNorm2d(896, eps=1e-05, momentum=0.1, affine=True, track_running_stats=True)\n",
       "            (relu1): ReLU(inplace=True)\n",
       "            (conv1): Conv2d(896, 128, kernel_size=(1, 1), stride=(1, 1), bias=False)\n",
       "            (norm2): BatchNorm2d(128, eps=1e-05, momentum=0.1, affine=True, track_running_stats=True)\n",
       "            (relu2): ReLU(inplace=True)\n",
       "            (conv2): Conv2d(128, 32, kernel_size=(3, 3), stride=(1, 1), padding=(1, 1), bias=False)\n",
       "          )\n",
       "          (denselayer10): _DenseLayer(\n",
       "            (norm1): BatchNorm2d(928, eps=1e-05, momentum=0.1, affine=True, track_running_stats=True)\n",
       "            (relu1): ReLU(inplace=True)\n",
       "            (conv1): Conv2d(928, 128, kernel_size=(1, 1), stride=(1, 1), bias=False)\n",
       "            (norm2): BatchNorm2d(128, eps=1e-05, momentum=0.1, affine=True, track_running_stats=True)\n",
       "            (relu2): ReLU(inplace=True)\n",
       "            (conv2): Conv2d(128, 32, kernel_size=(3, 3), stride=(1, 1), padding=(1, 1), bias=False)\n",
       "          )\n",
       "          (denselayer11): _DenseLayer(\n",
       "            (norm1): BatchNorm2d(960, eps=1e-05, momentum=0.1, affine=True, track_running_stats=True)\n",
       "            (relu1): ReLU(inplace=True)\n",
       "            (conv1): Conv2d(960, 128, kernel_size=(1, 1), stride=(1, 1), bias=False)\n",
       "            (norm2): BatchNorm2d(128, eps=1e-05, momentum=0.1, affine=True, track_running_stats=True)\n",
       "            (relu2): ReLU(inplace=True)\n",
       "            (conv2): Conv2d(128, 32, kernel_size=(3, 3), stride=(1, 1), padding=(1, 1), bias=False)\n",
       "          )\n",
       "          (denselayer12): _DenseLayer(\n",
       "            (norm1): BatchNorm2d(992, eps=1e-05, momentum=0.1, affine=True, track_running_stats=True)\n",
       "            (relu1): ReLU(inplace=True)\n",
       "            (conv1): Conv2d(992, 128, kernel_size=(1, 1), stride=(1, 1), bias=False)\n",
       "            (norm2): BatchNorm2d(128, eps=1e-05, momentum=0.1, affine=True, track_running_stats=True)\n",
       "            (relu2): ReLU(inplace=True)\n",
       "            (conv2): Conv2d(128, 32, kernel_size=(3, 3), stride=(1, 1), padding=(1, 1), bias=False)\n",
       "          )\n",
       "          (denselayer13): _DenseLayer(\n",
       "            (norm1): BatchNorm2d(1024, eps=1e-05, momentum=0.1, affine=True, track_running_stats=True)\n",
       "            (relu1): ReLU(inplace=True)\n",
       "            (conv1): Conv2d(1024, 128, kernel_size=(1, 1), stride=(1, 1), bias=False)\n",
       "            (norm2): BatchNorm2d(128, eps=1e-05, momentum=0.1, affine=True, track_running_stats=True)\n",
       "            (relu2): ReLU(inplace=True)\n",
       "            (conv2): Conv2d(128, 32, kernel_size=(3, 3), stride=(1, 1), padding=(1, 1), bias=False)\n",
       "          )\n",
       "          (denselayer14): _DenseLayer(\n",
       "            (norm1): BatchNorm2d(1056, eps=1e-05, momentum=0.1, affine=True, track_running_stats=True)\n",
       "            (relu1): ReLU(inplace=True)\n",
       "            (conv1): Conv2d(1056, 128, kernel_size=(1, 1), stride=(1, 1), bias=False)\n",
       "            (norm2): BatchNorm2d(128, eps=1e-05, momentum=0.1, affine=True, track_running_stats=True)\n",
       "            (relu2): ReLU(inplace=True)\n",
       "            (conv2): Conv2d(128, 32, kernel_size=(3, 3), stride=(1, 1), padding=(1, 1), bias=False)\n",
       "          )\n",
       "          (denselayer15): _DenseLayer(\n",
       "            (norm1): BatchNorm2d(1088, eps=1e-05, momentum=0.1, affine=True, track_running_stats=True)\n",
       "            (relu1): ReLU(inplace=True)\n",
       "            (conv1): Conv2d(1088, 128, kernel_size=(1, 1), stride=(1, 1), bias=False)\n",
       "            (norm2): BatchNorm2d(128, eps=1e-05, momentum=0.1, affine=True, track_running_stats=True)\n",
       "            (relu2): ReLU(inplace=True)\n",
       "            (conv2): Conv2d(128, 32, kernel_size=(3, 3), stride=(1, 1), padding=(1, 1), bias=False)\n",
       "          )\n",
       "          (denselayer16): _DenseLayer(\n",
       "            (norm1): BatchNorm2d(1120, eps=1e-05, momentum=0.1, affine=True, track_running_stats=True)\n",
       "            (relu1): ReLU(inplace=True)\n",
       "            (conv1): Conv2d(1120, 128, kernel_size=(1, 1), stride=(1, 1), bias=False)\n",
       "            (norm2): BatchNorm2d(128, eps=1e-05, momentum=0.1, affine=True, track_running_stats=True)\n",
       "            (relu2): ReLU(inplace=True)\n",
       "            (conv2): Conv2d(128, 32, kernel_size=(3, 3), stride=(1, 1), padding=(1, 1), bias=False)\n",
       "          )\n",
       "          (denselayer17): _DenseLayer(\n",
       "            (norm1): BatchNorm2d(1152, eps=1e-05, momentum=0.1, affine=True, track_running_stats=True)\n",
       "            (relu1): ReLU(inplace=True)\n",
       "            (conv1): Conv2d(1152, 128, kernel_size=(1, 1), stride=(1, 1), bias=False)\n",
       "            (norm2): BatchNorm2d(128, eps=1e-05, momentum=0.1, affine=True, track_running_stats=True)\n",
       "            (relu2): ReLU(inplace=True)\n",
       "            (conv2): Conv2d(128, 32, kernel_size=(3, 3), stride=(1, 1), padding=(1, 1), bias=False)\n",
       "          )\n",
       "          (denselayer18): _DenseLayer(\n",
       "            (norm1): BatchNorm2d(1184, eps=1e-05, momentum=0.1, affine=True, track_running_stats=True)\n",
       "            (relu1): ReLU(inplace=True)\n",
       "            (conv1): Conv2d(1184, 128, kernel_size=(1, 1), stride=(1, 1), bias=False)\n",
       "            (norm2): BatchNorm2d(128, eps=1e-05, momentum=0.1, affine=True, track_running_stats=True)\n",
       "            (relu2): ReLU(inplace=True)\n",
       "            (conv2): Conv2d(128, 32, kernel_size=(3, 3), stride=(1, 1), padding=(1, 1), bias=False)\n",
       "          )\n",
       "          (denselayer19): _DenseLayer(\n",
       "            (norm1): BatchNorm2d(1216, eps=1e-05, momentum=0.1, affine=True, track_running_stats=True)\n",
       "            (relu1): ReLU(inplace=True)\n",
       "            (conv1): Conv2d(1216, 128, kernel_size=(1, 1), stride=(1, 1), bias=False)\n",
       "            (norm2): BatchNorm2d(128, eps=1e-05, momentum=0.1, affine=True, track_running_stats=True)\n",
       "            (relu2): ReLU(inplace=True)\n",
       "            (conv2): Conv2d(128, 32, kernel_size=(3, 3), stride=(1, 1), padding=(1, 1), bias=False)\n",
       "          )\n",
       "          (denselayer20): _DenseLayer(\n",
       "            (norm1): BatchNorm2d(1248, eps=1e-05, momentum=0.1, affine=True, track_running_stats=True)\n",
       "            (relu1): ReLU(inplace=True)\n",
       "            (conv1): Conv2d(1248, 128, kernel_size=(1, 1), stride=(1, 1), bias=False)\n",
       "            (norm2): BatchNorm2d(128, eps=1e-05, momentum=0.1, affine=True, track_running_stats=True)\n",
       "            (relu2): ReLU(inplace=True)\n",
       "            (conv2): Conv2d(128, 32, kernel_size=(3, 3), stride=(1, 1), padding=(1, 1), bias=False)\n",
       "          )\n",
       "          (denselayer21): _DenseLayer(\n",
       "            (norm1): BatchNorm2d(1280, eps=1e-05, momentum=0.1, affine=True, track_running_stats=True)\n",
       "            (relu1): ReLU(inplace=True)\n",
       "            (conv1): Conv2d(1280, 128, kernel_size=(1, 1), stride=(1, 1), bias=False)\n",
       "            (norm2): BatchNorm2d(128, eps=1e-05, momentum=0.1, affine=True, track_running_stats=True)\n",
       "            (relu2): ReLU(inplace=True)\n",
       "            (conv2): Conv2d(128, 32, kernel_size=(3, 3), stride=(1, 1), padding=(1, 1), bias=False)\n",
       "          )\n",
       "          (denselayer22): _DenseLayer(\n",
       "            (norm1): BatchNorm2d(1312, eps=1e-05, momentum=0.1, affine=True, track_running_stats=True)\n",
       "            (relu1): ReLU(inplace=True)\n",
       "            (conv1): Conv2d(1312, 128, kernel_size=(1, 1), stride=(1, 1), bias=False)\n",
       "            (norm2): BatchNorm2d(128, eps=1e-05, momentum=0.1, affine=True, track_running_stats=True)\n",
       "            (relu2): ReLU(inplace=True)\n",
       "            (conv2): Conv2d(128, 32, kernel_size=(3, 3), stride=(1, 1), padding=(1, 1), bias=False)\n",
       "          )\n",
       "          (denselayer23): _DenseLayer(\n",
       "            (norm1): BatchNorm2d(1344, eps=1e-05, momentum=0.1, affine=True, track_running_stats=True)\n",
       "            (relu1): ReLU(inplace=True)\n",
       "            (conv1): Conv2d(1344, 128, kernel_size=(1, 1), stride=(1, 1), bias=False)\n",
       "            (norm2): BatchNorm2d(128, eps=1e-05, momentum=0.1, affine=True, track_running_stats=True)\n",
       "            (relu2): ReLU(inplace=True)\n",
       "            (conv2): Conv2d(128, 32, kernel_size=(3, 3), stride=(1, 1), padding=(1, 1), bias=False)\n",
       "          )\n",
       "          (denselayer24): _DenseLayer(\n",
       "            (norm1): BatchNorm2d(1376, eps=1e-05, momentum=0.1, affine=True, track_running_stats=True)\n",
       "            (relu1): ReLU(inplace=True)\n",
       "            (conv1): Conv2d(1376, 128, kernel_size=(1, 1), stride=(1, 1), bias=False)\n",
       "            (norm2): BatchNorm2d(128, eps=1e-05, momentum=0.1, affine=True, track_running_stats=True)\n",
       "            (relu2): ReLU(inplace=True)\n",
       "            (conv2): Conv2d(128, 32, kernel_size=(3, 3), stride=(1, 1), padding=(1, 1), bias=False)\n",
       "          )\n",
       "          (denselayer25): _DenseLayer(\n",
       "            (norm1): BatchNorm2d(1408, eps=1e-05, momentum=0.1, affine=True, track_running_stats=True)\n",
       "            (relu1): ReLU(inplace=True)\n",
       "            (conv1): Conv2d(1408, 128, kernel_size=(1, 1), stride=(1, 1), bias=False)\n",
       "            (norm2): BatchNorm2d(128, eps=1e-05, momentum=0.1, affine=True, track_running_stats=True)\n",
       "            (relu2): ReLU(inplace=True)\n",
       "            (conv2): Conv2d(128, 32, kernel_size=(3, 3), stride=(1, 1), padding=(1, 1), bias=False)\n",
       "          )\n",
       "          (denselayer26): _DenseLayer(\n",
       "            (norm1): BatchNorm2d(1440, eps=1e-05, momentum=0.1, affine=True, track_running_stats=True)\n",
       "            (relu1): ReLU(inplace=True)\n",
       "            (conv1): Conv2d(1440, 128, kernel_size=(1, 1), stride=(1, 1), bias=False)\n",
       "            (norm2): BatchNorm2d(128, eps=1e-05, momentum=0.1, affine=True, track_running_stats=True)\n",
       "            (relu2): ReLU(inplace=True)\n",
       "            (conv2): Conv2d(128, 32, kernel_size=(3, 3), stride=(1, 1), padding=(1, 1), bias=False)\n",
       "          )\n",
       "          (denselayer27): _DenseLayer(\n",
       "            (norm1): BatchNorm2d(1472, eps=1e-05, momentum=0.1, affine=True, track_running_stats=True)\n",
       "            (relu1): ReLU(inplace=True)\n",
       "            (conv1): Conv2d(1472, 128, kernel_size=(1, 1), stride=(1, 1), bias=False)\n",
       "            (norm2): BatchNorm2d(128, eps=1e-05, momentum=0.1, affine=True, track_running_stats=True)\n",
       "            (relu2): ReLU(inplace=True)\n",
       "            (conv2): Conv2d(128, 32, kernel_size=(3, 3), stride=(1, 1), padding=(1, 1), bias=False)\n",
       "          )\n",
       "          (denselayer28): _DenseLayer(\n",
       "            (norm1): BatchNorm2d(1504, eps=1e-05, momentum=0.1, affine=True, track_running_stats=True)\n",
       "            (relu1): ReLU(inplace=True)\n",
       "            (conv1): Conv2d(1504, 128, kernel_size=(1, 1), stride=(1, 1), bias=False)\n",
       "            (norm2): BatchNorm2d(128, eps=1e-05, momentum=0.1, affine=True, track_running_stats=True)\n",
       "            (relu2): ReLU(inplace=True)\n",
       "            (conv2): Conv2d(128, 32, kernel_size=(3, 3), stride=(1, 1), padding=(1, 1), bias=False)\n",
       "          )\n",
       "          (denselayer29): _DenseLayer(\n",
       "            (norm1): BatchNorm2d(1536, eps=1e-05, momentum=0.1, affine=True, track_running_stats=True)\n",
       "            (relu1): ReLU(inplace=True)\n",
       "            (conv1): Conv2d(1536, 128, kernel_size=(1, 1), stride=(1, 1), bias=False)\n",
       "            (norm2): BatchNorm2d(128, eps=1e-05, momentum=0.1, affine=True, track_running_stats=True)\n",
       "            (relu2): ReLU(inplace=True)\n",
       "            (conv2): Conv2d(128, 32, kernel_size=(3, 3), stride=(1, 1), padding=(1, 1), bias=False)\n",
       "          )\n",
       "          (denselayer30): _DenseLayer(\n",
       "            (norm1): BatchNorm2d(1568, eps=1e-05, momentum=0.1, affine=True, track_running_stats=True)\n",
       "            (relu1): ReLU(inplace=True)\n",
       "            (conv1): Conv2d(1568, 128, kernel_size=(1, 1), stride=(1, 1), bias=False)\n",
       "            (norm2): BatchNorm2d(128, eps=1e-05, momentum=0.1, affine=True, track_running_stats=True)\n",
       "            (relu2): ReLU(inplace=True)\n",
       "            (conv2): Conv2d(128, 32, kernel_size=(3, 3), stride=(1, 1), padding=(1, 1), bias=False)\n",
       "          )\n",
       "          (denselayer31): _DenseLayer(\n",
       "            (norm1): BatchNorm2d(1600, eps=1e-05, momentum=0.1, affine=True, track_running_stats=True)\n",
       "            (relu1): ReLU(inplace=True)\n",
       "            (conv1): Conv2d(1600, 128, kernel_size=(1, 1), stride=(1, 1), bias=False)\n",
       "            (norm2): BatchNorm2d(128, eps=1e-05, momentum=0.1, affine=True, track_running_stats=True)\n",
       "            (relu2): ReLU(inplace=True)\n",
       "            (conv2): Conv2d(128, 32, kernel_size=(3, 3), stride=(1, 1), padding=(1, 1), bias=False)\n",
       "          )\n",
       "          (denselayer32): _DenseLayer(\n",
       "            (norm1): BatchNorm2d(1632, eps=1e-05, momentum=0.1, affine=True, track_running_stats=True)\n",
       "            (relu1): ReLU(inplace=True)\n",
       "            (conv1): Conv2d(1632, 128, kernel_size=(1, 1), stride=(1, 1), bias=False)\n",
       "            (norm2): BatchNorm2d(128, eps=1e-05, momentum=0.1, affine=True, track_running_stats=True)\n",
       "            (relu2): ReLU(inplace=True)\n",
       "            (conv2): Conv2d(128, 32, kernel_size=(3, 3), stride=(1, 1), padding=(1, 1), bias=False)\n",
       "          )\n",
       "        )\n",
       "        (norm5): BatchNorm2d(1664, eps=1e-05, momentum=0.1, affine=True, track_running_stats=True)\n",
       "      )\n",
       "      (classifier): Linear(in_features=1664, out_features=1000, bias=True)\n",
       "    )\n",
       "  )\n",
       "  (decoder): Decoder(\n",
       "    (conv2): Conv2d(1664, 1664, kernel_size=(1, 1), stride=(1, 1))\n",
       "    (up1): UpSample(\n",
       "      (convA): Conv2d(1920, 832, kernel_size=(3, 3), stride=(1, 1), padding=(1, 1))\n",
       "      (leakyreluA): LeakyReLU(negative_slope=0.2)\n",
       "      (convB): Conv2d(832, 832, kernel_size=(3, 3), stride=(1, 1), padding=(1, 1))\n",
       "      (leakyreluB): LeakyReLU(negative_slope=0.2)\n",
       "    )\n",
       "    (up2): UpSample(\n",
       "      (convA): Conv2d(960, 416, kernel_size=(3, 3), stride=(1, 1), padding=(1, 1))\n",
       "      (leakyreluA): LeakyReLU(negative_slope=0.2)\n",
       "      (convB): Conv2d(416, 416, kernel_size=(3, 3), stride=(1, 1), padding=(1, 1))\n",
       "      (leakyreluB): LeakyReLU(negative_slope=0.2)\n",
       "    )\n",
       "    (up3): UpSample(\n",
       "      (convA): Conv2d(480, 208, kernel_size=(3, 3), stride=(1, 1), padding=(1, 1))\n",
       "      (leakyreluA): LeakyReLU(negative_slope=0.2)\n",
       "      (convB): Conv2d(208, 208, kernel_size=(3, 3), stride=(1, 1), padding=(1, 1))\n",
       "      (leakyreluB): LeakyReLU(negative_slope=0.2)\n",
       "    )\n",
       "    (up4): UpSample(\n",
       "      (convA): Conv2d(272, 104, kernel_size=(3, 3), stride=(1, 1), padding=(1, 1))\n",
       "      (leakyreluA): LeakyReLU(negative_slope=0.2)\n",
       "      (convB): Conv2d(104, 104, kernel_size=(3, 3), stride=(1, 1), padding=(1, 1))\n",
       "      (leakyreluB): LeakyReLU(negative_slope=0.2)\n",
       "    )\n",
       "    (conv3): Conv2d(104, 1, kernel_size=(3, 3), stride=(1, 1), padding=(1, 1))\n",
       "  )\n",
       ")"
      ]
     },
     "execution_count": 9,
     "metadata": {},
     "output_type": "execute_result"
    }
   ],
   "source": [
    "def load_checkpoint_state(checkpoint_file, model):\n",
    "    print('=> Loading checkpoint state')\n",
    "    checkpoint = torch.load(checkpoint_file, map_location=configs.DEVICE)\n",
    "    model.load_state_dict(checkpoint['state_dict'])\n",
    "\n",
    "model = Generator().to(configs.DEVICE)\n",
    "load_checkpoint_state('{}/GEN_{}.pt'.format(configs.CHECKPOINT_PATH, 20), model)\n",
    "model.eval()\n",
    "    "
   ]
  },
  {
   "cell_type": "markdown",
   "metadata": {},
   "source": [
    "##### Generate depth maps from the test loader dataset"
   ]
  },
  {
   "cell_type": "code",
   "execution_count": null,
   "metadata": {},
   "outputs": [],
   "source": [
    "def DepthNorm(depth, maxDepth=configs.MAX_DEPTH): \n",
    "    return maxDepth / depth"
   ]
  },
  {
   "cell_type": "code",
   "execution_count": null,
   "metadata": {},
   "outputs": [],
   "source": [
    "for i,sample_test  in enumerate (val_loader):\n",
    "    input_img = torch.autograd.Variable(sample_test['image'].cuda())\n",
    "\n",
    "    s_img=input_img.detach().cpu().numpy().reshape(3,configs.IMAGE_SIZE[1],configs.IMAGE_SIZE[0]).transpose(1,2,0)\n",
    "    plt.imsave('results/%d_image.jpg' %i, s_img) \n",
    "\n",
    "    gt_depth = torch.squeeze(sample_test['depth'])\n",
    "    gt_norm = DepthNorm(gt_depth)\n",
    "    gt_resized = torch.clamp(gt_norm, np.min(gt_norm.numpy()), np.max(gt_norm.numpy()))\n",
    "    plt.imsave('results/%d_depth_gt.jpg' %i, gt_resized, cmap=configs.CMAP_STYLE) \n",
    "\n",
    "    pred_depth= model(input_img)\n",
    "    pred_depth = F.relu(pred_depth).detach().cpu()\n",
    "    pred_norm = DepthNorm(pred_depth)\n",
    "    pred_depth = torch.clamp(pred_norm, np.min(gt_norm.numpy()), np.max(gt_norm.numpy()))\n",
    "    pred_resized = upscale_depth_img(pred_depth.numpy())\n",
    "    plt.imsave('results/%d_depth.jpg' %i, pred_resized, cmap=configs.CMAP_STYLE) \n",
    "    \n",
    "    # min = np.min(pred_resized)\n",
    "    # print(min)\n",
    "\n",
    "    # plt.imshow(pred_resized, cmap='plasma')\n",
    "    # plt.colorbar()\n",
    "    # plt.show()\n",
    "\n",
    "    # plt.imshow(gt_resized, cmap='plasma')\n",
    "    # plt.colorbar()\n",
    "    # plt.show()\n",
    "\n",
    "    # if i == 4:\n",
    "    #     break"
   ]
  },
  {
   "cell_type": "markdown",
   "metadata": {},
   "source": [
    "### Evaluating the trained model"
   ]
  },
  {
   "cell_type": "markdown",
   "metadata": {},
   "source": [
    "##### Evaluating on a mixture of rainy, foggy and clear images"
   ]
  },
  {
   "cell_type": "code",
   "execution_count": 10,
   "metadata": {
    "execution": {
     "iopub.execute_input": "2022-07-09T20:49:38.098470Z",
     "iopub.status.busy": "2022-07-09T20:49:38.098252Z",
     "iopub.status.idle": "2022-07-09T20:51:43.763034Z",
     "shell.execute_reply": "2022-07-09T20:51:43.762416Z",
     "shell.execute_reply.started": "2022-07-09T20:49:38.098449Z"
    }
   },
   "outputs": [
    {
     "name": "stdout",
     "output_type": "stream",
     "text": [
      "Abs_Rel: 0.119342, Sq_Rel: 1.566521, RMSE: 4.598795, RMSE_Log: 0.289520\n",
      "Accuracy Metrics a1: 0.921812, a2: 0.964201, a3: 0.977053\n",
      "\n"
     ]
    }
   ],
   "source": [
    "evaluate_model(model, test_loader)"
   ]
  },
  {
   "cell_type": "markdown",
   "metadata": {},
   "source": [
    "##### Evaluating on a mixture of rainy images only"
   ]
  },
  {
   "cell_type": "code",
   "execution_count": 17,
   "metadata": {},
   "outputs": [
    {
     "name": "stdout",
     "output_type": "stream",
     "text": [
      "Abs_Rel: 0.132485, Sq_Rel: 1.213173, RMSE: 4.186883, RMSE_Log: 0.314388\n",
      "Accuracy Metrics a1: 0.898973, a2: 0.953226, a3: 0.972020\n",
      "\n"
     ]
    }
   ],
   "source": [
    "rain_dataset = vKittiDataset(csv_file='/home/avishka/workspace/workspace/data/test_rain.csv', root_dir=configs.ROOT_DIR)\n",
    "rain_loader = DataLoader(rain_dataset, batch_size=1, shuffle=False)\n",
    "\n",
    "evaluate_model(model, rain_loader)\n"
   ]
  },
  {
   "cell_type": "markdown",
   "metadata": {},
   "source": [
    "##### Evaluating on a mixture of foggy images only"
   ]
  },
  {
   "cell_type": "code",
   "execution_count": 18,
   "metadata": {},
   "outputs": [
    {
     "name": "stdout",
     "output_type": "stream",
     "text": [
      "Abs_Rel: 0.159467, Sq_Rel: 1.981485, RMSE: 6.965977, RMSE_Log: 0.391206\n",
      "Accuracy Metrics a1: 0.854227, a2: 0.935364, a3: 0.960540\n",
      "\n"
     ]
    }
   ],
   "source": [
    "fog_dataset = vKittiDataset(csv_file='/home/avishka/workspace/workspace/data/test_fog.csv', root_dir=configs.ROOT_DIR)\n",
    "fog_loader = DataLoader(fog_dataset, batch_size=1, shuffle=False)\n",
    "\n",
    "evaluate_model(model, fog_loader)"
   ]
  }
 ],
 "metadata": {
  "accelerator": "GPU",
  "colab": {
   "collapsed_sections": [],
   "name": "adverse_weather_depth_unet_disc_combined.ipynb",
   "provenance": []
  },
  "interpreter": {
   "hash": "3c1f51487d8a055fea90b37fa3b43d5a61376641bd8f503a1f79d6e81aa7dcb1"
  },
  "kernelspec": {
   "display_name": "saturn (Python 3)",
   "language": "python",
   "name": "python3"
  },
  "language_info": {
   "codemirror_mode": {
    "name": "ipython",
    "version": 3
   },
   "file_extension": ".py",
   "mimetype": "text/x-python",
   "name": "python",
   "nbconvert_exporter": "python",
   "pygments_lexer": "ipython3",
   "version": "3.9.7"
  }
 },
 "nbformat": 4,
 "nbformat_minor": 4
}
